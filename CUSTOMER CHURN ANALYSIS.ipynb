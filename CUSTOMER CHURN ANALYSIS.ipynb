{
 "cells": [
  {
   "cell_type": "code",
   "execution_count": null,
   "id": "02117b1b",
   "metadata": {},
   "outputs": [],
   "source": [
    "from lifetimes.datasets import load_transaction_data\n",
    "transaction_data = load_transaction_data()\n",
    "transaction_data.head()"
   ]
  },
  {
   "cell_type": "code",
   "execution_count": null,
   "id": "7371a276",
   "metadata": {},
   "outputs": [],
   "source": [
    "transaction_data.shape"
   ]
  },
  {
   "cell_type": "code",
   "execution_count": null,
   "id": "594f516c",
   "metadata": {},
   "outputs": [],
   "source": [
    "min(transaction_data.date) , max(transaction_data.date)"
   ]
  },
  {
   "cell_type": "code",
   "execution_count": null,
   "id": "0759ddf2",
   "metadata": {},
   "outputs": [],
   "source": [
    "from lifetimes.utils import summary_data_from_transaction_data\n",
    "\n",
    "summary = summary_data_from_transaction_data(transaction_data,\n",
    "                                             customer_id_col = 'id',\n",
    "                                             datetime_col = 'date',\n",
    "                                             observation_period_end='2014-12-31')\n",
    "\n",
    "summary.head(10)"
   ]
  },
  {
   "cell_type": "code",
   "execution_count": null,
   "id": "fe71b137",
   "metadata": {},
   "outputs": [],
   "source": [
    "from lifetimes import BetaGeoFitter\n",
    "\n",
    "bgf = BetaGeoFitter(penalizer_coef=0.001)\n",
    "bgf = bgf.fit(summary['frequency'], summary['recency'], summary['T'])"
   ]
  },
  {
   "cell_type": "code",
   "execution_count": null,
   "id": "de8522d2",
   "metadata": {},
   "outputs": [],
   "source": [
    "t = 90\n",
    "exp_purchase = bgf.conditional_expected_number_of_purchases_up_to_time(t,\n",
    "                                                        summary['frequency'],\n",
    "                                                        summary['recency'],\n",
    "                                                        summary['T'])"
   ]
  },
  {
   "cell_type": "code",
   "execution_count": null,
   "id": "93f983ca",
   "metadata": {},
   "outputs": [],
   "source": [
    "exp_purchase.sort_values(ascending=False).head()"
   ]
  },
  {
   "cell_type": "code",
   "execution_count": null,
   "id": "07a63d6b",
   "metadata": {},
   "outputs": [],
   "source": [
    "is_alive = bgf.conditional_probability_alive(summary['frequency'],\n",
    "                                  summary['recency'],\n",
    "                                  summary['T'])"
   ]
  },
  {
   "cell_type": "code",
   "execution_count": null,
   "id": "ca56dae6",
   "metadata": {},
   "outputs": [],
   "source": [
    "is_alive"
   ]
  },
  {
   "cell_type": "code",
   "execution_count": null,
   "id": "7bbb2b37",
   "metadata": {},
   "outputs": [],
   "source": [
    "is_alive = pd.Series(is_alive).reset_index()\n",
    "is_alive[is_alive[0]<0.5].shape[0]/is_alive.shape[0]"
   ]
  },
  {
   "cell_type": "code",
   "execution_count": null,
   "id": "5cb44384",
   "metadata": {},
   "outputs": [],
   "source": [
    "from lifetimes.plotting import plot_period_transactions\n",
    "plot_period_transactions(bgf)"
   ]
  },
  {
   "cell_type": "code",
   "execution_count": null,
   "id": "9fef219b",
   "metadata": {},
   "outputs": [],
   "source": [
    "from lifetimes.plotting import plot_frequency_recency_matrix\n",
    "\n",
    "plot_frequency_recency_matrix(bgf)"
   ]
  },
  {
   "cell_type": "code",
   "execution_count": null,
   "id": "d07b1357",
   "metadata": {},
   "outputs": [],
   "source": [
    "from lifetimes.plotting import plot_probability_alive_matrix\n",
    "\n",
    "plot_probability_alive_matrix(bgf)"
   ]
  }
 ],
 "metadata": {
  "kernelspec": {
   "display_name": "Python 3 (ipykernel)",
   "language": "python",
   "name": "python3"
  },
  "language_info": {
   "codemirror_mode": {
    "name": "ipython",
    "version": 3
   },
   "file_extension": ".py",
   "mimetype": "text/x-python",
   "name": "python",
   "nbconvert_exporter": "python",
   "pygments_lexer": "ipython3",
   "version": "3.9.7"
  }
 },
 "nbformat": 4,
 "nbformat_minor": 5
}
