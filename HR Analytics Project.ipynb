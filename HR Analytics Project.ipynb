{
 "cells": [
  {
   "cell_type": "code",
   "execution_count": null,
   "id": "b0df3f1c",
   "metadata": {},
   "outputs": [],
   "source": [
    "import pandas as pd\n",
    "import numpy as np\n",
    "\n",
    "import matplotlib.pyplot as plt\n",
    "%matplotlib inline"
   ]
  },
  {
   "cell_type": "code",
   "execution_count": null,
   "id": "42ed0b56",
   "metadata": {},
   "outputs": [],
   "source": [
    "employees = pd.read_csv('HR_comma_sep.csv')\n",
    "employees.head()"
   ]
  },
  {
   "cell_type": "code",
   "execution_count": null,
   "id": "9ecbb25d",
   "metadata": {},
   "outputs": [],
   "source": [
    "employees['salary'] = pd.factorize(employees['salary'])[0]\n",
    "employees['sales'] = pd.factorize(employees['sales'])[0]"
   ]
  },
  {
   "cell_type": "code",
   "execution_count": null,
   "id": "1ed82a77",
   "metadata": {},
   "outputs": [],
   "source": [
    "employees.mean()"
   ]
  },
  {
   "cell_type": "code",
   "execution_count": null,
   "id": "5cbcc75c",
   "metadata": {},
   "outputs": [],
   "source": [
    "correlation_matrix = employees.corr(method='pearson')\n",
    "correlation_matrix "
   ]
  },
  {
   "cell_type": "code",
   "execution_count": null,
   "id": "87fdab9c",
   "metadata": {},
   "outputs": [],
   "source": [
    "# To plot the correlation_matrix:\n",
    "import seaborn as maps\n",
    "maps.heatmap(correlation_matrix, vmax = .8, square = True)\n",
    "plt.show()"
   ]
  },
  {
   "cell_type": "code",
   "execution_count": null,
   "id": "12c2c07d",
   "metadata": {},
   "outputs": [],
   "source": [
    "corr_left=pd.DataFrame(correlation_matrix['left'].drop('left').sort_values(ascending=False))\n",
    "corr_left"
   ]
  },
  {
   "cell_type": "code",
   "execution_count": null,
   "id": "b33bcaff",
   "metadata": {},
   "outputs": [],
   "source": [
    "maps.barplot(x = 'salary', y = 'left', data = employees)"
   ]
  },
  {
   "cell_type": "code",
   "execution_count": null,
   "id": "75d13fd2",
   "metadata": {},
   "outputs": [],
   "source": [
    "# For last_evaluation\n",
    "\n",
    "plot_features = ['last_evaluation','satisfaction_level','time_spend_company']\n",
    "\n",
    "for pf in plot_features:\n",
    "    g = maps.FacetGrid(employees, hue=\"left\")\n",
    "    g.map(maps.kdeplot,pf,shade= True)\n",
    "    g.set(xlim=(0, employees[pf].max()))\n",
    "    g.add_legend()"
   ]
  },
  {
   "cell_type": "code",
   "execution_count": null,
   "id": "bab26770",
   "metadata": {},
   "outputs": [],
   "source": [
    "# To separate label and features in data\n",
    "labels = np.where(employees['left'] == 1, 1, 0) \n",
    "features = employees.drop('left', axis = 1).as_matrix().astype(np.float)\n",
    "label_names = np.unique(labels)\n",
    "feature_names = list(employees.axes[1])"
   ]
  },
  {
   "cell_type": "code",
   "execution_count": null,
   "id": "35709849",
   "metadata": {},
   "outputs": [],
   "source": [
    "from sklearn.neighbors import KNeighborsClassifier\n",
    "from sklearn.tree import DecisionTreeClassifier\n",
    "from sklearn.naive_bayes import MultinomialNB\n",
    "from sklearn.svm import SVC\n",
    "from sklearn.ensemble import VotingClassifier\n",
    "from sklearn import cross_validation, linear_model\n",
    "from sklearn.metrics import accuracy_score\n",
    "from sklearn.model_selection import cross_val_predict\n",
    "from sklearn import metrics\n",
    "\n",
    "classifiers = [[\"KNN\",KNeighborsClassifier(n_neighbors=3, weights='distance')],\n",
    "[\"DT\",DecisionTreeClassifier(random_state=0)],\n",
    "[\"NB\", MultinomialNB()]\n",
    "]\n",
    "    \n",
    "classifier_types = []\n",
    "for name, clf in classifiers:\n",
    "    print '\\nMetric for ' + name\n",
    "    cv_predicted = cross_val_predict(clf, X_train, Y_train, cv=5)\n",
    "    print metrics.classification_report(Y_train, cv_predicted)\n",
    "    scores = cross_validation.cross_val_score(clf, X_train, Y_train)\n",
    "    print '\\nCross validation scores: ', scores.mean()\n",
    "\n",
    "    clf.fit(X_train, Y_train)\n",
    "    predictions = clf.predict(X_test)\n",
    "    print 'Accuracy score for '+ name, accuracy_score(Y_test, predictions)\n",
    "    classifier_types.append((name, clf))"
   ]
  },
  {
   "cell_type": "code",
   "execution_count": null,
   "id": "59f14042",
   "metadata": {},
   "outputs": [],
   "source": [
    "from sklearn.tree import export_graphviz\n",
    "from sklearn import tree\n",
    "clf = DecisionTreeClassifier(max_depth=5, min_impurity_split=1e-02)\n",
    "clf = clf.fit(X_train, Y_train)\n",
    "tree.export_graphviz(clf, out_file='tree.dot')"
   ]
  },
  {
   "cell_type": "code",
   "execution_count": null,
   "id": "41fcd37b",
   "metadata": {},
   "outputs": [],
   "source": [
    "import pydotplus \n",
    "dot_data = tree.export_graphviz(clf, out_file=None) \n",
    "graph = pydotplus.graph_from_dot_data(dot_data) \n",
    "graph.write_pdf(\"tree.pdf\") "
   ]
  },
  {
   "cell_type": "code",
   "execution_count": null,
   "id": "574e3367",
   "metadata": {},
   "outputs": [],
   "source": [
    "from IPython.display import Image  \n",
    "dot_data = tree.export_graphviz(clf, out_file=None, \n",
    "                         feature_names=feature_names,  \n",
    "                         class_names=str(label_names), \n",
    "                         filled=True, rounded=True,  \n",
    "                         special_characters=True\n",
    "                         )  \n",
    "graph = pydotplus.graph_from_dot_data(dot_data)  \n",
    "graph.write_pdf(\"coloured_tree.pdf\")\n",
    "Image(graph.create_png())  "
   ]
  },
  {
   "cell_type": "code",
   "execution_count": null,
   "id": "46ffa57a",
   "metadata": {},
   "outputs": [],
   "source": [
    "# Test employee features\n",
    "test = [   0.44,    0.57,    2,    141,      3,      0,      0,      7,      1  ]"
   ]
  },
  {
   "cell_type": "code",
   "execution_count": null,
   "id": "29501937",
   "metadata": {},
   "outputs": [],
   "source": [
    "predict = clf.predict_proba(np.asarray(test).reshape(-9,9))\n",
    "predict"
   ]
  },
  {
   "cell_type": "code",
   "execution_count": null,
   "id": "f0c656c9",
   "metadata": {},
   "outputs": [],
   "source": [
    "# Create a dataframe for employees who left.\n",
    "left_df = employees[employees['left'] == 1]\n",
    "\n",
    "# Create a dataframe for employees who stayed.\n",
    "stay_df = employees[employees['left'] == 0]"
   ]
  },
  {
   "cell_type": "code",
   "execution_count": null,
   "id": "4cb37b4f",
   "metadata": {},
   "outputs": [],
   "source": [
    "retention_profile_mean = pd.DataFrame(columns=[list(employees)])\n",
    "retention_profile_mean = retention_profile_mean.drop('left', 1)  # Drop the 'left' column\n",
    "retention_profile_mean = retention_profile_mean.append({'satisfaction_level': stay_df['satisfaction_level'].mean(),\n",
    "                                              'last_evaluation': stay_df['last_evaluation'].mean(),\n",
    "                                              'number_project': stay_df['number_project'].mean(),\n",
    "                                              'average_montly_hours': stay_df['average_montly_hours'].mean(),\n",
    "                                              'time_spend_company': stay_df['time_spend_company'].mean(),\n",
    "                                              'Work_accident': stay_df['Work_accident'].mode(),\n",
    "                                              'promotion_last_5years': stay_df['promotion_last_5years'].mode(),\n",
    "                                              'sales': stay_df['sales'].mean(),\n",
    "                                              'salary': stay_df['salary'].mean()\n",
    "                                             },\n",
    "                                             ignore_index=True)\n",
    "\n",
    "retention_profile_std = pd.DataFrame(columns=[list(employees)])\n",
    "retention_profile_std = retention_profile_std.drop('left', 1)  # Drop the 'left' column\n",
    "retention_profile_std = retention_profile_std.append({'satisfaction_level': stay_df['satisfaction_level'].std(),\n",
    "                                              'last_evaluation': stay_df['last_evaluation'].std(),\n",
    "                                              'number_project': stay_df['number_project'].std(),\n",
    "                                              'average_montly_hours': stay_df['average_montly_hours'].std(),\n",
    "                                              'time_spend_company': stay_df['time_spend_company'].std(),\n",
    "                                              'Work_accident': stay_df['Work_accident'].std(),\n",
    "                                              'promotion_last_5years': stay_df['promotion_last_5years'].std(),\n",
    "                                              'sales': stay_df['sales'].std(),\n",
    "                                              'salary': stay_df['salary'].std()\n",
    "                                             },\n",
    "                                             ignore_index=True)\n",
    "retention_profile_mean\n",
    "#retention_profile_std"
   ]
  },
  {
   "cell_type": "code",
   "execution_count": null,
   "id": "41e5d41e",
   "metadata": {},
   "outputs": [],
   "source": [
    "# Difference in job satisfaction between the two groups.\n",
    "attrition_satisfaction = round(left_df['satisfaction_level'].mean(), 2)\n",
    "retention_satisfaction = round(stay_df['satisfaction_level'].mean(), 2)"
   ]
  },
  {
   "cell_type": "code",
   "execution_count": null,
   "id": "8d7633db",
   "metadata": {},
   "outputs": [],
   "source": [
    "# Factors contributing to satisfaction levels among staff who left.\n",
    "print left_df.corr(method='pearson')['satisfaction_level'][1:].sort_values(ascending=False)"
   ]
  },
  {
   "cell_type": "code",
   "execution_count": null,
   "id": "f2bd3997",
   "metadata": {},
   "outputs": [],
   "source": [
    "# Factors contributing to satisfaction levels among staff who stay.\n",
    "print stay_df.corr(method='pearson')['satisfaction_level'][1:].sort_values(ascending=False)"
   ]
  },
  {
   "cell_type": "code",
   "execution_count": null,
   "id": "eccad847",
   "metadata": {},
   "outputs": [],
   "source": [
    "# Factors correlated to satisfaction_level\n",
    "correlations2 = employees.corr(method='pearson')\n",
    "satisfaction_df = correlations2['satisfaction_level'][1:].abs().sort_values(ascending=False)\n",
    "satisfaction_df = satisfaction_df.drop('left')\n",
    "print(satisfaction_df)"
   ]
  },
  {
   "cell_type": "code",
   "execution_count": null,
   "id": "6bece59d",
   "metadata": {},
   "outputs": [],
   "source": [
    "# To separate label and features in data\n",
    "X_train_ = X_train[:, 1:]\n",
    "X_test_ = X_test[:, 1:]\n",
    "y_train_ = X_train[:, 0]\n",
    "y_test_ = X_test[:, 0]\n",
    "\n",
    "X_ = np.vstack((X_train_, X_test_))\n",
    "y_ = np.append(y_train_, y_test_)"
   ]
  },
  {
   "cell_type": "code",
   "execution_count": null,
   "id": "80a0d0b1",
   "metadata": {},
   "outputs": [],
   "source": [
    "from sklearn.ensemble import RandomForestRegressor\n",
    "from sklearn.model_selection import KFold,cross_val_score,train_test_split\n",
    "from sklearn.metrics import classification_report\n",
    "from sklearn.linear_model import LinearRegression\n",
    "from sklearn.tree import DecisionTreeRegressor\n",
    "\n",
    "models=[['LR',LinearRegression()],['DT',DecisionTreeRegressor()],['RF',RandomForestRegressor()]]\n",
    "for names,model in models:\n",
    "    results = cross_val_score(model, X_,y_, cv = KFold(n_splits=10,random_state=7),\n",
    "    scoring = 'neg_mean_squared_error')\n",
    "    print names, results.mean()"
   ]
  },
  {
   "cell_type": "code",
   "execution_count": null,
   "id": "b285f827",
   "metadata": {},
   "outputs": [],
   "source": [
    "# Test with random test values\n",
    "regres= RandomForestRegressor()\n",
    "regres.fit(X_train_,y_train_)\n",
    "predicted_sat = regres.predict(X_test_)\n",
    "print predicted_sat"
   ]
  },
  {
   "cell_type": "code",
   "execution_count": null,
   "id": "fbea9141",
   "metadata": {},
   "outputs": [],
   "source": [
    "import copy\n",
    "import warnings\n",
    "warnings.filterwarnings(\"ignore\", category=DeprecationWarning) \n",
    "\n",
    "def genNewSamples(x, idx, xmin, xmax, num):\n",
    "    \"\"\"\n",
    "    x - actual sample array\n",
    "    idx - idx of sample to be changed\n",
    "    (xmin, xmax) - sample to change\n",
    "    num - number of points to pick from uniform distribution\n",
    "    \"\"\"\n",
    "    x_ = []\n",
    "    for newx in np.arange(xmin, xmax, (xmax-xmin)*1.0/num):\n",
    "        y = copy.deepcopy(x)\n",
    "        y[idx] = newx\n",
    "        x_.append(y)\n",
    "\n",
    "    return np.vstack([[x] for x in x_])\n",
    "# Check how to improve the satisfaction level of employee for those who are leaving\n",
    "def improveSatisfaction(X_test_):\n",
    "    leavingThreshold = 0.9\n",
    "    #for idx, x_test_ in enumerate(X_test_):\n",
    "    # get the probavbilty of leaving\n",
    "    leaving = clf.predict_proba(X_test_)\n",
    "    leaving = leaving[0][1]\n",
    "    suggestions =[]\n",
    "    # if person is leaving, try to improve the satisfaction level\n",
    "    if leaving > leavingThreshold:\n",
    "        print '\\nThe employee will leave ! - ', X_test_\n",
    "        # generate new samples by changing\n",
    "        x_test_rec_ = []\n",
    "        # number of projects\n",
    "        x_test_rec_.append(genNewSamples(X_test_, 2, 2, 8, 6))\n",
    "        # salary\n",
    "        x_test_rec_.append(genNewSamples(X_test_, 8, 0, 3, 3))\n",
    "        # number of hours\n",
    "        '''\n",
    "        s = 'average_montly_hours'\n",
    "        xmin = retention_profile_mean[s] - 3.0*retention_profile_std[s]\n",
    "        xmax = retention_profile_mean[s] + 3.0*retention_profile_std[s]\n",
    "        x_test_rec_.append(genNewSamples(X_test_, 3, xmin, xmax, 10))\n",
    "        '''\n",
    "        \n",
    "         # predict the new satisfaction level for updated sample set\n",
    "        x_test_rec_ = np.vstack(x for x in x_test_rec_)\n",
    "        regres= RandomForestRegressor()\n",
    "        regres.fit(X_train_,y_train_)\n",
    "        y_test_rec_ = regres.predict(x_test_rec_[:,1:])\n",
    "\n",
    "        # generate new x_test with this predicted satisfaction level and\n",
    "        # check if the person is leaving\n",
    "        x_test_rec = np.hstack((np.asarray([y_test_rec_]).T, x_test_rec_[:,1:]))\n",
    "        y_test_rec= clf.predict_proba(x_test_rec)\n",
    "        y_test_rec = y_test_rec[:, 0]\n",
    "        print 'The employee will not leave for following conditions:'\n",
    "        for idx, y_test in enumerate(y_test_rec):\n",
    "            if y_test > leavingThreshold:\n",
    "                print x_test_rec[idx]\n",
    "                if x_test_rec[idx][2]>X_test_[2]:\n",
    "                    text = \"Increase the employee's number of projects by : \"\n",
    "                    text+= str(x_test_rec[idx][2]-X_test_[2])\n",
    "                    text+= \" to get satisfaction level of \"+ str(x_test_rec[idx][0]) + \"\\n\"\n",
    "                    suggestions.append(text)\n",
    "                if x_test_rec[idx][8]!=X_test_[8]:\n",
    "                    text = \"Make employee's salary : \" + str(x_test_rec[idx][8])\n",
    "                    text += \" to get satisfaction level of \"+ str(x_test_rec[idx][0])\n",
    "                    suggestions.append(text)\n",
    "    else:\n",
    "        response = \"The employee will not leave! No action required. \"\n",
    "        suggestions.append(response)\n",
    "            \n",
    "    return suggestions"
   ]
  },
  {
   "cell_type": "code",
   "execution_count": null,
   "id": "785f774d",
   "metadata": {},
   "outputs": [],
   "source": [
    "test = [   0.44,    0.57,    2,    141,      3,      0,      0,      7,      1  ]\n",
    "\n",
    "print improveSatisfaction(test)"
   ]
  }
 ],
 "metadata": {
  "kernelspec": {
   "display_name": "Python 3 (ipykernel)",
   "language": "python",
   "name": "python3"
  },
  "language_info": {
   "codemirror_mode": {
    "name": "ipython",
    "version": 3
   },
   "file_extension": ".py",
   "mimetype": "text/x-python",
   "name": "python",
   "nbconvert_exporter": "python",
   "pygments_lexer": "ipython3",
   "version": "3.9.7"
  }
 },
 "nbformat": 4,
 "nbformat_minor": 5
}
