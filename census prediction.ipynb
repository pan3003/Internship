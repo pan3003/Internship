{
 "cells": [
  {
   "cell_type": "code",
   "execution_count": null,
   "id": "45d181ae",
   "metadata": {},
   "outputs": [],
   "source": [
    "# Working with data\n",
    "import numpy as np\n",
    "import pandas as pd\n",
    "\n",
    "# Visualizations\n",
    "import matplotlib.pyplot as plt\n",
    "from matplotlib import rcParams\n",
    "import seaborn as sns\n",
    "%matplotlib inline\n",
    "\n",
    "# Ignore warnings\n",
    "import warnings\n",
    "warnings.filterwarnings('ignore');"
   ]
  },
  {
   "cell_type": "code",
   "execution_count": null,
   "id": "81b287b1",
   "metadata": {},
   "outputs": [],
   "source": [
    "columns = ['Age', 'Work Class', 'Final Weight', 'Education', 'Education Number', 'Marital Status', 'Occupation',\n",
    "          'Relationship', 'Race', 'Sex', 'Capital Gain', 'Capital Loss', 'Hours per Week', 'Country', 'Income']\n",
    "dataset = pd.read_csv('income-dataset.csv', names = columns)"
   ]
  },
  {
   "cell_type": "code",
   "execution_count": null,
   "id": "d81573d5",
   "metadata": {},
   "outputs": [],
   "source": [
    "from sklearn.preprocessing import LabelEncoder\n",
    "\n",
    "labelEncoder = LabelEncoder()\n",
    "dataset['Income'] = labelEncoder.fit_transform(dataset['Income'])"
   ]
  },
  {
   "cell_type": "code",
   "execution_count": null,
   "id": "ec2910a7",
   "metadata": {},
   "outputs": [],
   "source": [
    "dataset.info()"
   ]
  },
  {
   "cell_type": "code",
   "execution_count": null,
   "id": "ecdf6cb1",
   "metadata": {},
   "outputs": [],
   "source": [
    "rcParams['figure.figsize'] = 20, 12\n",
    "dataset[['Age', 'Final Weight', 'Education Number', 'Capital Gain', 'Capital Loss', 'Hours per Week']].hist()"
   ]
  },
  {
   "cell_type": "code",
   "execution_count": null,
   "id": "fc58d7c5",
   "metadata": {},
   "outputs": [],
   "source": [
    "plt.matshow(dataset.corr())\n",
    "plt.colorbar()\n",
    "plt.xticks(np.arange(len(dataset.corr().columns)), dataset.corr().columns.values, rotation = 45) \n",
    "plt.yticks(np.arange(len(dataset.corr().columns)), dataset.corr().columns.values) \n",
    "for (i, j), corr in np.ndenumerate(dataset.corr()):\n",
    "    plt.text(j, i, '{:0.1f}'.format(corr), ha='center', va='center', color='white', fontsize=14)"
   ]
  },
  {
   "cell_type": "code",
   "execution_count": null,
   "id": "6ba5dee7",
   "metadata": {},
   "outputs": [],
   "source": [
    "dataset['Age'] = pd.cut(dataset['Age'], bins = [0, 25, 50, 100], labels = ['Young', 'Adult', 'Old']) "
   ]
  },
  {
   "cell_type": "code",
   "execution_count": null,
   "id": "2da42c4d",
   "metadata": {},
   "outputs": [],
   "source": [
    "sns.countplot(x = 'Age', hue = 'Income', data = dataset)"
   ]
  },
  {
   "cell_type": "code",
   "execution_count": null,
   "id": "1c6572ab",
   "metadata": {},
   "outputs": [],
   "source": [
    "dataset['Capital Diff'] = dataset['Capital Gain'] - dataset['Capital Loss']\n",
    "dataset.drop(['Capital Gain'], axis = 1, inplace = True)\n",
    "dataset.drop(['Capital Loss'], axis = 1, inplace = True)"
   ]
  },
  {
   "cell_type": "code",
   "execution_count": null,
   "id": "2a20c63c",
   "metadata": {},
   "outputs": [],
   "source": [
    "dataset['Capital Diff'] = pd.cut(dataset['Capital Diff'], bins = [-5000, 5000, 100000], labels = ['Minor', 'Major'])\n",
    "sns.countplot(x = 'Capital Diff', hue = 'Income', data = dataset)"
   ]
  },
  {
   "cell_type": "code",
   "execution_count": null,
   "id": "3e57a78d",
   "metadata": {},
   "outputs": [],
   "source": [
    "dataset.drop(['Final Weight'], axis = 1, inplace = True)"
   ]
  },
  {
   "cell_type": "code",
   "execution_count": null,
   "id": "78a4aabb",
   "metadata": {},
   "outputs": [],
   "source": [
    "dataset['Hours per Week'] = pd.cut(dataset['Hours per Week'], \n",
    "                                   bins = [0, 30, 40, 100], \n",
    "                                   labels = ['Lesser Hours', 'Normal Hours', 'Extra Hours'])"
   ]
  },
  {
   "cell_type": "code",
   "execution_count": null,
   "id": "c351446b",
   "metadata": {},
   "outputs": [],
   "source": [
    "sns.countplot(x = 'Hours per Week', hue = 'Income', data = dataset)"
   ]
  },
  {
   "cell_type": "code",
   "execution_count": null,
   "id": "495c6095",
   "metadata": {},
   "outputs": [],
   "source": [
    "sns.countplot(x = 'Work Class', hue = 'Income', data = dataset)"
   ]
  },
  {
   "cell_type": "code",
   "execution_count": null,
   "id": "5184382a",
   "metadata": {},
   "outputs": [],
   "source": [
    "dataset = dataset.drop(dataset[dataset['Work Class'] == ' ?'].index)\n",
    "dataset = dataset.drop(dataset[dataset['Work Class'] == ' Without-pay'].index)\n",
    "dataset = dataset.drop(dataset[dataset['Work Class'] == ' Never-worked'].index)"
   ]
  },
  {
   "cell_type": "code",
   "execution_count": null,
   "id": "5f86edf9",
   "metadata": {},
   "outputs": [],
   "source": [
    "sns.countplot(x = 'Education', hue = 'Income', data = dataset)"
   ]
  },
  {
   "cell_type": "code",
   "execution_count": null,
   "id": "db647321",
   "metadata": {},
   "outputs": [],
   "source": [
    "education_classes = dataset['Education'].unique()\n",
    "for edu_class in education_classes:\n",
    "    print(\"For {}, the Education Number is {}\"\n",
    "          .format(edu_class, dataset[dataset['Education'] == edu_class]['Education Number'].unique()))"
   ]
  },
  {
   "cell_type": "code",
   "execution_count": null,
   "id": "7dfc682a",
   "metadata": {},
   "outputs": [],
   "source": [
    "dataset.drop(['Education Number'], axis = 1, inplace = True)\n",
    "dataset['Education'].replace([' 11th', ' 9th', ' 7th-8th', ' 5th-6th', ' 10th', ' 1st-4th', ' Preschool', ' 12th'],\n",
    "                             ' School', inplace = True)\n",
    "dataset['Education'].value_counts()"
   ]
  },
  {
   "cell_type": "code",
   "execution_count": null,
   "id": "fc0754df",
   "metadata": {},
   "outputs": [],
   "source": [
    "dataset['Marital Status'].value_counts()"
   ]
  },
  {
   "cell_type": "code",
   "execution_count": null,
   "id": "495d75dd",
   "metadata": {},
   "outputs": [],
   "source": [
    "dataset['Relationship'].value_counts()"
   ]
  },
  {
   "cell_type": "code",
   "execution_count": null,
   "id": "2faaa153",
   "metadata": {},
   "outputs": [],
   "source": [
    "plt.xticks(rotation = 45)\n",
    "sns.countplot(x = 'Occupation', hue = 'Income', data = dataset)"
   ]
  },
  {
   "cell_type": "code",
   "execution_count": null,
   "id": "33304641",
   "metadata": {},
   "outputs": [],
   "source": [
    "sns.countplot(x = 'Race', hue = 'Income', data = dataset)"
   ]
  },
  {
   "cell_type": "code",
   "execution_count": null,
   "id": "22c3855d",
   "metadata": {},
   "outputs": [],
   "source": [
    "dataset['Race'].unique()\n",
    "dataset['Race'].replace([' Black', ' Asian-Pac-Islander', ' Amer-Indian-Eskimo', ' Other'],' Other', inplace = True)"
   ]
  },
  {
   "cell_type": "code",
   "execution_count": null,
   "id": "31d268a9",
   "metadata": {},
   "outputs": [],
   "source": [
    "sns.countplot(x = 'Sex', hue = 'Income', data = dataset)"
   ]
  },
  {
   "cell_type": "code",
   "execution_count": null,
   "id": "f860cf23",
   "metadata": {},
   "outputs": [],
   "source": [
    "country_count = dataset['Country'].value_counts()\n",
    "country_count"
   ]
  },
  {
   "cell_type": "code",
   "execution_count": null,
   "id": "f27cd5c6",
   "metadata": {},
   "outputs": [],
   "source": [
    "plt.bar(country_count.index, country_count.values)\n",
    "plt.xticks(rotation = 90)\n",
    "plt.xlabel('Countries')\n",
    "plt.ylabel('Count')\n",
    "plt.title('Total adults from each Country')"
   ]
  },
  {
   "cell_type": "code",
   "execution_count": null,
   "id": "73102ccd",
   "metadata": {},
   "outputs": [],
   "source": [
    "dataset = dataset.drop(dataset[dataset['Country'] == ' ?'].index)"
   ]
  },
  {
   "cell_type": "code",
   "execution_count": null,
   "id": "550d957f",
   "metadata": {},
   "outputs": [],
   "source": [
    "countries = np.array(dataset['Country'].unique())\n",
    "countries = np.delete(countries, 0)"
   ]
  },
  {
   "cell_type": "code",
   "execution_count": null,
   "id": "d5707d9e",
   "metadata": {},
   "outputs": [],
   "source": [
    "dataset['Country'].replace(countries, 'Other', inplace = True)"
   ]
  },
  {
   "cell_type": "code",
   "execution_count": null,
   "id": "f8789d88",
   "metadata": {},
   "outputs": [],
   "source": [
    "sns.countplot(y = 'Country', hue = 'Income', data = dataset)"
   ]
  },
  {
   "cell_type": "code",
   "execution_count": null,
   "id": "086dd5d4",
   "metadata": {},
   "outputs": [],
   "source": [
    "y = dataset['Income']\n",
    "X = dataset.drop(['Income'], axis = 1)\n",
    "X = pd.get_dummies(X)\n",
    "print(\"Total features: {}\".format(X.shape[1]))"
   ]
  },
  {
   "cell_type": "code",
   "execution_count": null,
   "id": "6f31cde4",
   "metadata": {},
   "outputs": [],
   "source": [
    "from sklearn.model_selection import train_test_split\n",
    "\n",
    "X_train, X_test, y_train, y_test = train_test_split(X, y, test_size = 0.30, random_state = 0)"
   ]
  },
  {
   "cell_type": "code",
   "execution_count": null,
   "id": "ddb26bf4",
   "metadata": {},
   "outputs": [],
   "source": [
    "from sklearn.metrics import f1_score, accuracy_score\n",
    "from sklearn.naive_bayes import GaussianNB\n",
    "from sklearn.svm import SVC\n",
    "from sklearn.tree import DecisionTreeClassifier\n",
    "from sklearn.ensemble import RandomForestClassifier, GradientBoostingClassifier"
   ]
  },
  {
   "cell_type": "code",
   "execution_count": null,
   "id": "c4b8c27e",
   "metadata": {},
   "outputs": [],
   "source": [
    "classifiers = [GaussianNB(), \n",
    "               SVC(kernel = 'rbf', probability = True), \n",
    "               DecisionTreeClassifier(random_state = 0), \n",
    "               RandomForestClassifier(n_estimators = 100, random_state = 0), \n",
    "               GradientBoostingClassifier(random_state = 0)]\n",
    "classifier_names = [\"Gaussian Naive Bayes\", \n",
    "                    \"Support Vector Classifier\", \n",
    "                    \"Decision Tree Classifier\", \n",
    "                    \"Random Forest Classifier\", \n",
    "                    \"Gradient Boosting Classifier\"]\n",
    "accuracies = []"
   ]
  },
  {
   "cell_type": "code",
   "execution_count": null,
   "id": "e562c463",
   "metadata": {},
   "outputs": [],
   "source": [
    "for i in range(len(classifiers)):\n",
    "    classifier = classifiers[i]\n",
    "    classifier.fit(X_train, y_train)\n",
    "    y_pred = classifier.predict(X_test)\n",
    "    print(\"{}:\".format(classifier_names[i]))\n",
    "    print(\"F1 score: {:.2f}\".format(f1_score(y_test, y_pred)))\n",
    "    accuracy = accuracy_score(y_test, y_pred)*100\n",
    "    accuracies.append(accuracy)"
   ]
  },
  {
   "cell_type": "code",
   "execution_count": null,
   "id": "a6eec761",
   "metadata": {},
   "outputs": [],
   "source": [
    "from matplotlib.cm import rainbow\n",
    "\n",
    "plt.figure(figsize = (20, 12))\n",
    "colors = rainbow(np.linspace(0, 1, len(classifiers)))\n",
    "barplot = plt.bar(classifier_names, accuracies, color = colors)\n",
    "plt.yticks([0, 10, 20, 30, 40, 50, 60, 70, 80, 90, 100], fontsize = 16)\n",
    "plt.xticks(fontsize = 14)\n",
    "plt.xlabel(\"Classifiers\", fontsize = 16)\n",
    "plt.ylabel(\"Accuracy\", fontsize = 16)\n",
    "plt.title(\"Plot for accuracy of all classifiers\", fontsize = 16)\n",
    "for i, bar in enumerate(barplot):\n",
    "    plt.text(bar.get_x() + bar.get_width()/2 - 0.1, \n",
    "             bar.get_height()*1.02, \n",
    "             s = '{:.2f}%'.format(accuracies[i]), \n",
    "             fontsize = 16)"
   ]
  },
  {
   "cell_type": "code",
   "execution_count": null,
   "id": "8b6d7d7b",
   "metadata": {},
   "outputs": [],
   "source": [
    "from sklearn.metrics import roc_curve, auc\n",
    "\n",
    "plt.figure(figsize = (20, 12))\n",
    "plt.plot([0,1], [0,1], 'r--')\n",
    "\n",
    "for i in range(len(classifiers)):\n",
    "    classifier = classifiers[i]\n",
    "    probs = classifier.predict_proba(X_test)\n",
    "    # Reading probability of second class\n",
    "    probs = probs[:, 1]\n",
    "    fpr, tpr, thresholds = roc_curve(y_test, probs)\n",
    "    roc_auc = auc(fpr, tpr)\n",
    "    label = classifier_names[i] + ' AUC:' + ' {0:.2f}'.format(roc_auc)\n",
    "    plt.plot(fpr, tpr, c = colors[i], label = label, linewidth = 4)\n",
    "    \n",
    "plt.xlabel('False Positive Rate', fontsize = 16)\n",
    "plt.ylabel('True Positive Rate', fontsize = 16)\n",
    "plt.title('Receiver Operating Characteristic', fontsize = 16)\n",
    "plt.legend(loc = 'lower right', fontsize = 16)"
   ]
  }
 ],
 "metadata": {
  "kernelspec": {
   "display_name": "Python 3 (ipykernel)",
   "language": "python",
   "name": "python3"
  },
  "language_info": {
   "codemirror_mode": {
    "name": "ipython",
    "version": 3
   },
   "file_extension": ".py",
   "mimetype": "text/x-python",
   "name": "python",
   "nbconvert_exporter": "python",
   "pygments_lexer": "ipython3",
   "version": "3.9.7"
  }
 },
 "nbformat": 4,
 "nbformat_minor": 5
}
