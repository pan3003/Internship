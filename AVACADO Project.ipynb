{
 "cells": [
  {
   "cell_type": "code",
   "execution_count": null,
   "id": "b7b8ad36",
   "metadata": {},
   "outputs": [],
   "source": [
    "import pandas as pd\n",
    "import numpy as np\n",
    "import seaborn as sns\n",
    "import matplotlib.pyplot as plt\n",
    "%matplotlib inline\n",
    "import warnings\n",
    "warnings.filterwarnings('ignore')"
   ]
  },
  {
   "cell_type": "code",
   "execution_count": null,
   "id": "c54ee69a",
   "metadata": {},
   "outputs": [],
   "source": [
    "# import our dataset\n",
    "data = pd.read_csv('avocado.csv')"
   ]
  },
  {
   "cell_type": "code",
   "execution_count": null,
   "id": "56a664b1",
   "metadata": {},
   "outputs": [],
   "source": [
    "# first 10 observations of our dataset\n",
    "data.head(10)"
   ]
  },
  {
   "cell_type": "code",
   "execution_count": null,
   "id": "f36ca102",
   "metadata": {},
   "outputs": [],
   "source": [
    "# renaming column names into meaningful names (refer kaggle's avacado dataset description)\n",
    "data = data.rename(columns={'4046':'PLU_4046','4225':'PLU_4225','4770':'PLU_4770'})"
   ]
  },
  {
   "cell_type": "code",
   "execution_count": null,
   "id": "ee97f9bb",
   "metadata": {},
   "outputs": [],
   "source": [
    "# removing unnecessary column\n",
    "data = data.drop(['Unnamed: 0'],axis = 1)\n",
    "data.head(10)"
   ]
  },
  {
   "cell_type": "code",
   "execution_count": null,
   "id": "69ffdd07",
   "metadata": {},
   "outputs": [],
   "source": [
    "def season_of_date(date):\n",
    "    year = str(date.year)\n",
    "    seasons = {'spring': pd.date_range(start='21/03/'+year, end='20/06/'+year),\n",
    "               'summer': pd.date_range(start='21/06/'+year, end='22/09/'+year),\n",
    "               'autumn': pd.date_range(start='23/09/'+year, end='20/12/'+year)}\n",
    "    if date in seasons['spring']:\n",
    "        return 'spring'\n",
    "    if date in seasons['summer']:\n",
    "        return 'summer'\n",
    "    if date in seasons['autumn']:\n",
    "        return 'autumn'\n",
    "    else:\n",
    "        return 'winter'"
   ]
  },
  {
   "cell_type": "code",
   "execution_count": null,
   "id": "ca8a5054",
   "metadata": {},
   "outputs": [],
   "source": [
    "# creating a new feature 'season' and assign the corresponding season for the Date using map function over our season_of_date function\n",
    "data['season'] = data.Date.map(season_of_date)"
   ]
  },
  {
   "cell_type": "code",
   "execution_count": null,
   "id": "071f1692",
   "metadata": {},
   "outputs": [],
   "source": [
    "# now, we can see the season feature appended at the last\n",
    "data.head(10)"
   ]
  },
  {
   "cell_type": "code",
   "execution_count": null,
   "id": "b8038232",
   "metadata": {},
   "outputs": [],
   "source": [
    "# no of observations for each seasons\n",
    "data.season.value_counts()"
   ]
  },
  {
   "cell_type": "code",
   "execution_count": null,
   "id": "35d01c5e",
   "metadata": {},
   "outputs": [],
   "source": [
    "# droping date feature\n",
    "data = data.drop(['Date'],axis = 1)"
   ]
  },
  {
   "cell_type": "code",
   "execution_count": null,
   "id": "61b0ae1b",
   "metadata": {},
   "outputs": [],
   "source": [
    "label_cols = ['type','region','season']\n",
    "from sklearn.preprocessing import LabelEncoder\n",
    "label = LabelEncoder()\n",
    "data[label_cols] = data[label_cols].apply(lambda x : label.fit_transform(x))"
   ]
  },
  {
   "cell_type": "code",
   "execution_count": null,
   "id": "f3ab7836",
   "metadata": {},
   "outputs": [],
   "source": [
    "from sklearn.compose import make_column_transformer\n",
    "from sklearn.preprocessing import StandardScaler\n",
    "from sklearn.preprocessing import OneHotEncoder\n",
    "scale_cols = data.drop(['AveragePrice','type','year','region','season'],axis=1)\n",
    "col_trans = make_column_transformer(\n",
    "            (OneHotEncoder(), data[label_cols].columns),\n",
    "            (StandardScaler(), scale_cols.columns),\n",
    "            remainder = 'passthrough')"
   ]
  },
  {
   "cell_type": "code",
   "execution_count": null,
   "id": "950d7834",
   "metadata": {},
   "outputs": [],
   "source": [
    "# splitting our dataset into train and test set such that 20% of observations are considered as test set\n",
    "X = data.drop(['AveragePrice'],axis=1)\n",
    "y = data.AveragePrice\n",
    "from sklearn.model_selection import train_test_split\n",
    "X_train, X_test, y_train, y_test = train_test_split(X, y, test_size = 0.20, random_state = 0)"
   ]
  },
  {
   "cell_type": "code",
   "execution_count": null,
   "id": "6c319e32",
   "metadata": {},
   "outputs": [],
   "source": [
    "from sklearn.pipeline import make_pipeline\n",
    "from sklearn.linear_model import LinearRegression\n",
    "linreg = LinearRegression()\n",
    "pipe = make_pipeline(col_trans,linreg)\n",
    "pipe.fit(X_train,y_train)"
   ]
  },
  {
   "cell_type": "code",
   "execution_count": null,
   "id": "3e16d304",
   "metadata": {},
   "outputs": [],
   "source": [
    "y_pred_test = pipe.predict(X_test)"
   ]
  },
  {
   "cell_type": "code",
   "execution_count": null,
   "id": "1ad7ddfb",
   "metadata": {},
   "outputs": [],
   "source": [
    "from sklearn.metrics import mean_absolute_error,mean_squared_error\n",
    "print('MAE for testing set: {}'.format(mean_absolute_error(y_pred_test,y_test)))\n",
    "print('MSE for testing set: {}'.format(mean_squared_error(y_pred_test,y_test)))\n",
    "print('RMSE for testing set: {}'.format(np.sqrt(mean_squared_error(y_pred_test,y_test))))"
   ]
  },
  {
   "cell_type": "code",
   "execution_count": null,
   "id": "1ea95258",
   "metadata": {},
   "outputs": [],
   "source": [
    "from sklearn.svm import SVR\n",
    "svr = SVR()\n",
    "pipe = make_pipeline(col_trans,svr)\n",
    "pipe.fit(X_train,y_train)"
   ]
  },
  {
   "cell_type": "code",
   "execution_count": null,
   "id": "babd7801",
   "metadata": {},
   "outputs": [],
   "source": [
    "y_pred_test = pipe.predict(X_test)"
   ]
  },
  {
   "cell_type": "code",
   "execution_count": null,
   "id": "c33ddda4",
   "metadata": {},
   "outputs": [],
   "source": [
    "print('MAE for testing set: {}'.format(mean_absolute_error(y_pred_test,y_test)))\n",
    "print('MSE for testing set: {}'.format(mean_squared_error(y_pred_test,y_test)))\n",
    "print('RMSE for testing set: {}'.format(np.sqrt(mean_squared_error(y_pred_test,y_test))))"
   ]
  },
  {
   "cell_type": "code",
   "execution_count": null,
   "id": "d81165da",
   "metadata": {},
   "outputs": [],
   "source": [
    "from sklearn.tree import DecisionTreeRegressor\n",
    "dr=DecisionTreeRegressor()\n",
    "pipe = make_pipeline(col_trans,dr)\n",
    "pipe.fit(X_train,y_train)"
   ]
  },
  {
   "cell_type": "code",
   "execution_count": null,
   "id": "868701c1",
   "metadata": {},
   "outputs": [],
   "source": [
    "y_pred_test = pipe.predict(X_test)"
   ]
  },
  {
   "cell_type": "code",
   "execution_count": null,
   "id": "847c057f",
   "metadata": {},
   "outputs": [],
   "source": [
    "print('MAE for testing set: {}'.format(mean_absolute_error(y_pred_test,y_test)))\n",
    "print('MSE for testing set: {}'.format(mean_squared_error(y_pred_test,y_test)))\n",
    "print('RMSE for testing set: {}'.format(np.sqrt(mean_squared_error(y_pred_test,y_test))))"
   ]
  },
  {
   "cell_type": "code",
   "execution_count": null,
   "id": "ac42693e",
   "metadata": {},
   "outputs": [],
   "source": [
    "from sklearn.ensemble import RandomForestRegressor\n",
    "forest_model = RandomForestRegressor()\n",
    "pipe = make_pipeline(col_trans,forest_model)\n",
    "pipe.fit(X_train,y_train)"
   ]
  },
  {
   "cell_type": "code",
   "execution_count": null,
   "id": "531480fa",
   "metadata": {},
   "outputs": [],
   "source": [
    "y_pred_test = pipe.predict(X_test)"
   ]
  },
  {
   "cell_type": "code",
   "execution_count": null,
   "id": "d9e95f7c",
   "metadata": {},
   "outputs": [],
   "source": [
    "print('MAE for testing set: {}'.format(mean_absolute_error(y_pred_test,y_test)))\n",
    "print('MSE for testing set: {}'.format(mean_squared_error(y_pred_test,y_test)))\n",
    "print('RMSE for testing set: {}'.format(np.sqrt(mean_squared_error(y_pred_test,y_test))))"
   ]
  },
  {
   "cell_type": "code",
   "execution_count": null,
   "id": "6e612532",
   "metadata": {},
   "outputs": [],
   "source": [
    "sns.distplot((y_test-y_pred_test),bins=50)"
   ]
  }
 ],
 "metadata": {
  "kernelspec": {
   "display_name": "Python 3 (ipykernel)",
   "language": "python",
   "name": "python3"
  },
  "language_info": {
   "codemirror_mode": {
    "name": "ipython",
    "version": 3
   },
   "file_extension": ".py",
   "mimetype": "text/x-python",
   "name": "python",
   "nbconvert_exporter": "python",
   "pygments_lexer": "ipython3",
   "version": "3.9.7"
  }
 },
 "nbformat": 4,
 "nbformat_minor": 5
}
