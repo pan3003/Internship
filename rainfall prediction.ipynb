{
 "cells": [
  {
   "cell_type": "code",
   "execution_count": null,
   "id": "5c6f532d",
   "metadata": {},
   "outputs": [],
   "source": [
    "# importing the required libraries \n",
    "import numpy as np\n",
    "import pandas as pd\n",
    "\n",
    "import matplotlib.pyplot as plt\n",
    "import seaborn as sns\n",
    "\n",
    "from sklearn import metrics"
   ]
  },
  {
   "cell_type": "code",
   "execution_count": null,
   "id": "ee564683",
   "metadata": {},
   "outputs": [],
   "source": [
    "# reading the data\n",
    "data = pd.read_csv(\"rainfall in india 1901-2021.csv\")\n",
    "data.head()"
   ]
  },
  {
   "cell_type": "code",
   "execution_count": null,
   "id": "aa64767a",
   "metadata": {},
   "outputs": [],
   "source": [
    "data.info()"
   ]
  },
  {
   "cell_type": "code",
   "execution_count": null,
   "id": "f8f0455d",
   "metadata": {},
   "outputs": [],
   "source": [
    "data.isnull().sum()"
   ]
  },
  {
   "cell_type": "code",
   "execution_count": null,
   "id": "4be390f2",
   "metadata": {},
   "outputs": [],
   "source": [
    "data.duplicated().sum()"
   ]
  },
  {
   "cell_type": "code",
   "execution_count": null,
   "id": "45543a32",
   "metadata": {},
   "outputs": [],
   "source": [
    "data['SUBDIVISION'].value_counts()"
   ]
  },
  {
   "cell_type": "code",
   "execution_count": null,
   "id": "0e095366",
   "metadata": {},
   "outputs": [],
   "source": [
    "data.mean()"
   ]
  },
  {
   "cell_type": "code",
   "execution_count": null,
   "id": "2a323e33",
   "metadata": {},
   "outputs": [],
   "source": [
    "# filling na values with mean\n",
    "data = data.fillna(data.mean())"
   ]
  },
  {
   "cell_type": "code",
   "execution_count": null,
   "id": "5396fb31",
   "metadata": {},
   "outputs": [],
   "source": [
    "data.head(3)"
   ]
  },
  {
   "cell_type": "code",
   "execution_count": null,
   "id": "985199ce",
   "metadata": {},
   "outputs": [],
   "source": [
    "data.isnull().any()"
   ]
  },
  {
   "cell_type": "code",
   "execution_count": null,
   "id": "99deb83e",
   "metadata": {},
   "outputs": [],
   "source": [
    "data.YEAR.unique()"
   ]
  },
  {
   "cell_type": "code",
   "execution_count": null,
   "id": "4322174e",
   "metadata": {},
   "outputs": [],
   "source": [
    "data.describe()"
   ]
  },
  {
   "cell_type": "code",
   "execution_count": null,
   "id": "eae61b3b",
   "metadata": {},
   "outputs": [],
   "source": [
    "data.shape"
   ]
  },
  {
   "cell_type": "code",
   "execution_count": null,
   "id": "24a26b9f",
   "metadata": {},
   "outputs": [],
   "source": [
    "data[[\"SUBDIVISION\",\"ANNUAL\"]].groupby(\"SUBDIVISION\").sum().sort_values(by='ANNUAL',ascending=False).plot(kind='barh',stacked=True,figsize=(15,10))\n",
    "plt.xlabel(\"Rainfall in MM\",size=12)\n",
    "plt.ylabel(\"Sub-Division\",size=12)\n",
    "plt.title(\"Annual Rainfall v/s SubDivisions\")\n",
    "plt.grid(axis=\"x\",linestyle=\"-.\")\n",
    "plt.show()"
   ]
  },
  {
   "cell_type": "code",
   "execution_count": null,
   "id": "74f4e50e",
   "metadata": {},
   "outputs": [],
   "source": [
    "plt.figure(figsize=(15,8))\n",
    "data.groupby(\"YEAR\").sum()['ANNUAL'].plot(kind=\"line\",color=\"r\",marker=\".\")\n",
    "plt.xlabel(\"YEARS\",size=12)\n",
    "plt.ylabel(\"RAINFALL IN MM\",size=12)\n",
    "plt.grid(axis=\"both\",linestyle=\"-.\")\n",
    "plt.title(\"Rainfall over Years\")\n",
    "plt.show()"
   ]
  },
  {
   "cell_type": "code",
   "execution_count": null,
   "id": "ed22df84",
   "metadata": {},
   "outputs": [],
   "source": [
    "data[['YEAR', 'JAN', 'FEB', 'MAR', 'APR', 'MAY', 'JUN', 'JUL','AUG', 'SEP',\n",
    "      'OCT', 'NOV', 'DEC']].groupby(\"YEAR\").sum().plot(kind=\"line\",figsize=(18,8))\n",
    "plt.xlabel(\"Year\",size=13)\n",
    "plt.ylabel(\"Rainfall in MM\",size=13)\n",
    "plt.title(\"Year v/s Rainfall in each month\",size=20)\n",
    "plt.show()"
   ]
  },
  {
   "cell_type": "code",
   "execution_count": null,
   "id": "d2a0058e",
   "metadata": {},
   "outputs": [],
   "source": [
    "data[['YEAR','Jan-Feb', 'Mar-May',\n",
    "       'Jun-Sep', 'Oct-Dec']].groupby(\"YEAR\").sum().plot(figsize=(10,7))\n",
    "plt.xlabel(\"Year\",size=13)\n",
    "plt.ylabel(\"Rainfall in MM\",size=13)\n",
    "plt.show()"
   ]
  },
  {
   "cell_type": "code",
   "execution_count": null,
   "id": "66121280",
   "metadata": {},
   "outputs": [],
   "source": [
    "data[['SUBDIVISION', 'JAN', 'FEB', 'MAR', 'APR', 'MAY', 'JUN', 'JUL',\n",
    "       'AUG', 'SEP', 'OCT', 'NOV', 'DEC']].groupby(\"SUBDIVISION\").sum().plot(kind=\"barh\",stacked=True,figsize=(13,8))\n",
    "plt.title(\"Sub-Division v/s Rainfall in each month\")\n",
    "plt.xlabel(\"Rainfall in MM\",size=12)\n",
    "plt.ylabel(\"Sub-Division\",size=12)\n",
    "plt.grid(axis=\"x\",linestyle=\"-.\")\n",
    "plt.show()"
   ]
  },
  {
   "cell_type": "code",
   "execution_count": null,
   "id": "d20dec5a",
   "metadata": {},
   "outputs": [],
   "source": [
    "data[['SUBDIVISION', 'Jan-Feb', 'Mar-May',\n",
    "       'Jun-Sep', 'Oct-Dec']].groupby(\"SUBDIVISION\").sum().plot(kind=\"barh\",stacked=True,figsize=(16,8))\n",
    "plt.xlabel(\"Rainfall in MM\",size=12)\n",
    "plt.ylabel(\"Sub-Division\",size=12)\n",
    "plt.grid(axis=\"x\",linestyle=\"-.\")\n",
    "plt.show()"
   ]
  },
  {
   "cell_type": "code",
   "execution_count": null,
   "id": "abb5a348",
   "metadata": {},
   "outputs": [],
   "source": [
    "# Analysis of rainfall data of tamil nadu\n",
    "TN = data.loc[((data['SUBDIVISION'] == 'TAMIL NADU'))]\n",
    "TN.head(4)"
   ]
  },
  {
   "cell_type": "code",
   "execution_count": null,
   "id": "c0b8d50a",
   "metadata": {},
   "outputs": [],
   "source": [
    "plt.figure(figsize=(10,6))\n",
    "TN[['JAN', 'FEB', 'MAR', 'APR','MAY', 'JUN','JUL','AUG', 'SEP', 'OCT','NOV','DEC']].mean().plot(kind=\"bar\",width=0.5,linewidth=2)\n",
    "plt.title(\"Tamil Nadu Rainfall v/s Months\",size=20)\n",
    "plt.xlabel(\"Months\",size=14)\n",
    "plt.ylabel(\"Rainfall in MM\",size=14)\n",
    "plt.grid(axis=\"both\",linestyle=\"-.\")\n",
    "plt.show()"
   ]
  },
  {
   "cell_type": "code",
   "execution_count": null,
   "id": "d2fcf531",
   "metadata": {},
   "outputs": [],
   "source": [
    "TN.groupby(\"YEAR\").sum()['ANNUAL'].plot(ylim=(50,1500),color='r',marker='o',linestyle='-',linewidth=2,figsize=(12,8));\n",
    "plt.xlabel('Year',size=14)\n",
    "plt.ylabel('Rainfall in MM',size=14)\n",
    "plt.title('Tamil Nadu Annual Rainfall from Year 1901 to 2015',size=20)\n",
    "plt.grid()\n",
    "plt.show()"
   ]
  },
  {
   "cell_type": "code",
   "execution_count": null,
   "id": "6e7c6618",
   "metadata": {},
   "outputs": [],
   "source": [
    "# analysis of rainfall data of rajasthan\n",
    "Rajasthan = data.loc[((data['SUBDIVISION'] == 'WEST RAJASTHAN') | (data['SUBDIVISION'] == 'EAST RAJASTHAN'))]\n",
    "Rajasthan.head()"
   ]
  },
  {
   "cell_type": "code",
   "execution_count": null,
   "id": "b5e74d1b",
   "metadata": {},
   "outputs": [],
   "source": [
    "plt.figure(figsize=(10,6))\n",
    "Rajasthan[['JAN', 'FEB', 'MAR', 'APR','MAY', 'JUN','JUL','AUG', 'SEP', 'OCT','NOV','DEC']].mean().plot(kind=\"bar\",width=0.5,linewidth=2)\n",
    "plt.title(\"Rajasthan Rainfall v/s Months\",size=20)\n",
    "plt.xlabel(\"Months\",size=14)\n",
    "plt.ylabel(\"Rainfall in MM\",size=14)\n",
    "plt.grid(axis=\"both\",linestyle=\"-.\")\n",
    "plt.show()"
   ]
  },
  {
   "cell_type": "code",
   "execution_count": null,
   "id": "989c451a",
   "metadata": {},
   "outputs": [],
   "source": [
    "Rajasthan.groupby(\"YEAR\").mean()['ANNUAL'].plot(ylim=(50,1500),color='r',marker='o',linestyle='-',linewidth=2,figsize=(12,8));\n",
    "plt.xlabel('Year',size=14)\n",
    "plt.ylabel('Rainfall in MM',size=14)\n",
    "plt.title('Rajasthan Annual Rainfall from Year 1901 to 2015',size=20)\n",
    "plt.grid()\n",
    "plt.show()"
   ]
  },
  {
   "cell_type": "code",
   "execution_count": null,
   "id": "7da1d37d",
   "metadata": {},
   "outputs": [],
   "source": [
    "# correlation b/w each numeric attribute\n",
    "plt.figure(figsize=(15,6))\n",
    "sns.heatmap(data[['JAN','FEB','MAR','APR','MAY','JUN','JUL','AUG','SEP','OCT','NOV','DEC','ANNUAL']].corr(),annot=True)\n",
    "plt.show()"
   ]
  },
  {
   "cell_type": "code",
   "execution_count": null,
   "id": "66199c8e",
   "metadata": {},
   "outputs": [],
   "source": [
    "data[\"SUBDIVISION\"].nunique()"
   ]
  },
  {
   "cell_type": "code",
   "execution_count": null,
   "id": "21ad1003",
   "metadata": {},
   "outputs": [],
   "source": [
    "group = data.groupby('SUBDIVISION')['YEAR','JAN','FEB','MAR','APR','MAY','JUN','JUL','AUG','SEP','OCT','NOV','DEC']\n",
    "data=group.get_group(('TAMIL NADU'))\n",
    "data.head()"
   ]
  },
  {
   "cell_type": "code",
   "execution_count": null,
   "id": "a757f241",
   "metadata": {},
   "outputs": [],
   "source": [
    "df=data.melt(['YEAR']).reset_index()\n",
    "df.head()"
   ]
  },
  {
   "cell_type": "code",
   "execution_count": null,
   "id": "37f4d793",
   "metadata": {},
   "outputs": [],
   "source": [
    "df= df[['YEAR','variable','value']].reset_index().sort_values(by=['YEAR','index'])\n",
    "df.head()"
   ]
  },
  {
   "cell_type": "code",
   "execution_count": null,
   "id": "83c491a3",
   "metadata": {},
   "outputs": [],
   "source": [
    "df.YEAR.unique()"
   ]
  },
  {
   "cell_type": "code",
   "execution_count": null,
   "id": "dade8ab9",
   "metadata": {},
   "outputs": [],
   "source": [
    "df.columns=['Index','Year','Month','Avg_Rainfall']"
   ]
  },
  {
   "cell_type": "code",
   "execution_count": null,
   "id": "68e24d7d",
   "metadata": {},
   "outputs": [],
   "source": [
    "df.head()"
   ]
  },
  {
   "cell_type": "code",
   "execution_count": null,
   "id": "93d865a8",
   "metadata": {},
   "outputs": [],
   "source": [
    "Month_map={'JAN':1,'FEB':2,'MAR' :3,'APR':4,'MAY':5,'JUN':6,'JUL':7,'AUG':8,'SEP':9,\n",
    "   'OCT':10,'NOV':11,'DEC':12}\n",
    "df['Month']=df['Month'].map(Month_map)\n",
    "df.head(12)"
   ]
  },
  {
   "cell_type": "code",
   "execution_count": null,
   "id": "7279bcfb",
   "metadata": {},
   "outputs": [],
   "source": [
    "df.drop(columns=\"Index\",inplace=True)"
   ]
  },
  {
   "cell_type": "code",
   "execution_count": null,
   "id": "010e915c",
   "metadata": {},
   "outputs": [],
   "source": [
    "df.head(2)"
   ]
  },
  {
   "cell_type": "code",
   "execution_count": null,
   "id": "c7955e74",
   "metadata": {},
   "outputs": [],
   "source": [
    "df.groupby(\"Year\").sum().plot()\n",
    "plt.show()"
   ]
  },
  {
   "cell_type": "code",
   "execution_count": null,
   "id": "3065b159",
   "metadata": {},
   "outputs": [],
   "source": [
    "X=np.asanyarray(df[['Year','Month']]).astype('int')\n",
    "y=np.asanyarray(df['Avg_Rainfall']).astype('int')\n",
    "print(X.shape)\n",
    "print(y.shape)"
   ]
  },
  {
   "cell_type": "code",
   "execution_count": null,
   "id": "72432262",
   "metadata": {},
   "outputs": [],
   "source": [
    "# splitting the dataset into training and testing\n",
    "from sklearn.model_selection import train_test_split\n",
    "\n",
    "X_train, X_test, y_train, y_test = train_test_split(X, y, test_size=0.3, random_state=10)"
   ]
  },
  {
   "cell_type": "code",
   "execution_count": null,
   "id": "53dfd789",
   "metadata": {},
   "outputs": [],
   "source": [
    "from sklearn.linear_model import LinearRegression\n",
    "LR = LinearRegression()\n",
    "LR.fit(X_train,y_train)"
   ]
  },
  {
   "cell_type": "code",
   "execution_count": null,
   "id": "951ac36c",
   "metadata": {},
   "outputs": [],
   "source": [
    "# predicting \n",
    "y_train_predict=LR.predict(X_train)\n",
    "y_test_predict=LR.predict(X_test)"
   ]
  },
  {
   "cell_type": "code",
   "execution_count": null,
   "id": "cc7cb383",
   "metadata": {},
   "outputs": [],
   "source": [
    "print(\"-------Test Data--------\")\n",
    "print('MAE:', metrics.mean_absolute_error(y_test, y_test_predict))\n",
    "print('MSE:', metrics.mean_squared_error(y_test, y_test_predict))\n",
    "print('RMSE:', np.sqrt(metrics.mean_squared_error(y_test, y_test_predict)))\n",
    "\n",
    "print(\"\\n-------Train Data--------\")\n",
    "print('MAE:', metrics.mean_absolute_error(y_train,y_train_predict))\n",
    "print('MSE:', metrics.mean_squared_error(y_train, y_train_predict))\n",
    "print('RMSE:', np.sqrt(metrics.mean_squared_error(y_train, y_train_predict)))\n",
    "\n",
    "print(\"\\n-----Training Accuracy-------\")\n",
    "print(round(LR.score(X_train,y_train),3)*100)\n",
    "print(\"-----Testing Accuracy--------\")\n",
    "print(round(LR.score(X_test,y_test),3)*100)"
   ]
  },
  {
   "cell_type": "code",
   "execution_count": null,
   "id": "af6d803e",
   "metadata": {},
   "outputs": [],
   "source": [
    "from sklearn.linear_model import Lasso\n",
    "from sklearn.model_selection import GridSearchCV\n",
    "\n",
    "# create a lasso object\n",
    "lasso = Lasso(max_iter=100000)\n",
    "\n",
    "# check for best alpha value using GridSearch\n",
    "parameter={'alpha':[1e-15,1e-10,1e-8,1e-3,1e-2,1,5,1e1,1e2,1e3,1e4,1e5,1e6,1e7]}\n",
    "lasso_regressor=GridSearchCV(\n",
    "    lasso,parameter,\n",
    "    scoring='neg_mean_squared_error',\n",
    "    cv=5\n",
    "    )"
   ]
  },
  {
   "cell_type": "code",
   "execution_count": null,
   "id": "299c8e5e",
   "metadata": {},
   "outputs": [],
   "source": [
    "lasso_regressor.fit(X_train,y_train)"
   ]
  },
  {
   "cell_type": "code",
   "execution_count": null,
   "id": "66f0b9c3",
   "metadata": {},
   "outputs": [],
   "source": [
    "print(\"Best Parameter for Lasso:\",lasso_regressor.best_estimator_)"
   ]
  },
  {
   "cell_type": "code",
   "execution_count": null,
   "id": "39e0284e",
   "metadata": {},
   "outputs": [],
   "source": [
    "lasso=Lasso(alpha=100.0,max_iter=100000)\n",
    "\n",
    "# fit into the object\n",
    "lasso.fit(X_train,y_train)"
   ]
  },
  {
   "cell_type": "code",
   "execution_count": null,
   "id": "d6827bcd",
   "metadata": {},
   "outputs": [],
   "source": [
    "# predicting \n",
    "y_train_predict=lasso.predict(X_train)\n",
    "y_test_predict=lasso.predict(X_test)"
   ]
  }
 ],
 "metadata": {
  "kernelspec": {
   "display_name": "Python 3 (ipykernel)",
   "language": "python",
   "name": "python3"
  },
  "language_info": {
   "codemirror_mode": {
    "name": "ipython",
    "version": 3
   },
   "file_extension": ".py",
   "mimetype": "text/x-python",
   "name": "python",
   "nbconvert_exporter": "python",
   "pygments_lexer": "ipython3",
   "version": "3.9.7"
  }
 },
 "nbformat": 4,
 "nbformat_minor": 5
}
