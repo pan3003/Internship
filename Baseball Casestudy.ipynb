{
 "cells": [
  {
   "cell_type": "code",
   "execution_count": 2,
   "id": "0c9ff824",
   "metadata": {},
   "outputs": [],
   "source": [
    "import sqlite3\n",
    "import pandas as pd"
   ]
  },
  {
   "cell_type": "code",
   "execution_count": null,
   "id": "5fa42fb2",
   "metadata": {},
   "outputs": [],
   "source": [
    "conn = sqlite3.connect('lahman2016.sqlite')"
   ]
  },
  {
   "cell_type": "code",
   "execution_count": null,
   "id": "576514bf",
   "metadata": {},
   "outputs": [],
   "source": [
    "query = '''select * from Teams\n",
    "inner join TeamsFranchises\n",
    "on Teams.franchID == TeamsFranchises.franchID\n",
    "where Teams.G >= 150 and TeamsFranchises.active == 'Y';\n",
    "'''"
   ]
  },
  {
   "cell_type": "code",
   "execution_count": null,
   "id": "ff3ca877",
   "metadata": {},
   "outputs": [],
   "source": [
    "Teams = conn.execute(query).fetchall()"
   ]
  },
  {
   "cell_type": "code",
   "execution_count": null,
   "id": "4b66ca1e",
   "metadata": {},
   "outputs": [],
   "source": [
    "teams_df = pd.DataFrame(Teams)\n",
    "teams_df.head(5)"
   ]
  },
  {
   "cell_type": "code",
   "execution_count": null,
   "id": "11ef90ab",
   "metadata": {},
   "outputs": [],
   "source": [
    "cols = ['yearID','lgID','teamID','franchID','divID',\n",
    "        'Rank','G','Ghome','W','L','DivWin','WCWin',\n",
    "        'LgWin','WSWin','R','AB','H','2B','3B','HR',\n",
    "        'BB','SO','SB','CS','HBP','SF','RA','ER','ERA',\n",
    "        'CG','SHO','SV','IPouts','HA','HRA','BBA','SOA',\n",
    "        'E','DP','FP','name','park','attendance','BPF',\n",
    "        'PPF','teamIDBR','teamIDlahman45','teamIDretro',\n",
    "        'franchID','franchName','active','NAassoc']\n",
    "teams_df.columns = cols"
   ]
  },
  {
   "cell_type": "code",
   "execution_count": null,
   "id": "4fd33d6d",
   "metadata": {},
   "outputs": [],
   "source": [
    "print(teams_df.head(2))"
   ]
  },
  {
   "cell_type": "code",
   "execution_count": null,
   "id": "3dcd40d7",
   "metadata": {},
   "outputs": [],
   "source": [
    "len(teams_df)"
   ]
  },
  {
   "cell_type": "code",
   "execution_count": null,
   "id": "559dfa3d",
   "metadata": {},
   "outputs": [],
   "source": [
    "drop_cols = ['lgID','franchID','divID','Rank','Ghome',\n",
    "             'L','DivWin','WCWin','LgWin','WSWin','SF',\n",
    "             'name','park','attendance','BPF','PPF',\n",
    "             'teamIDBR','teamIDlahman45','teamIDretro',\n",
    "             'franchID','franchName','active','NAassoc']\n",
    "df = teams_df.drop(drop_cols,axis=1)"
   ]
  },
  {
   "cell_type": "code",
   "execution_count": null,
   "id": "b38ae168",
   "metadata": {},
   "outputs": [],
   "source": [
    "print(df.isnull().sum(axis=0).tolist())"
   ]
  },
  {
   "cell_type": "code",
   "execution_count": null,
   "id": "63f8b9b4",
   "metadata": {},
   "outputs": [],
   "source": [
    "df = df.drop(['CS','HBP'],axis=1)"
   ]
  },
  {
   "cell_type": "code",
   "execution_count": null,
   "id": "64b110a6",
   "metadata": {},
   "outputs": [],
   "source": [
    "df['SO'] = df['SO'].fillna(df['SO'].median())\n",
    "df['DP'] = df['DP'].fillna(df['DP'].median())"
   ]
  },
  {
   "cell_type": "code",
   "execution_count": null,
   "id": "d0b0cfa8",
   "metadata": {},
   "outputs": [],
   "source": [
    "print(df.isnull().sum(axis=0).tolist())"
   ]
  },
  {
   "cell_type": "code",
   "execution_count": null,
   "id": "f65107ec",
   "metadata": {},
   "outputs": [],
   "source": [
    "import matplotlib.pyplot as plt\n",
    "%matplotlib inline"
   ]
  },
  {
   "cell_type": "code",
   "execution_count": null,
   "id": "c75a1e5e",
   "metadata": {},
   "outputs": [],
   "source": [
    "plt.hist(df['W'])\n",
    "plt.xlabel('wins')\n",
    "plt.title('histogram of wins')"
   ]
  },
  {
   "cell_type": "code",
   "execution_count": null,
   "id": "98156ed7",
   "metadata": {},
   "outputs": [],
   "source": [
    "df['W'].mean()"
   ]
  },
  {
   "cell_type": "code",
   "execution_count": null,
   "id": "d6c63b3e",
   "metadata": {},
   "outputs": [],
   "source": [
    "#create bins for each win values\n",
    "def assign_win_bins(w):\n",
    "    if w < 50:\n",
    "        return 1\n",
    "    if w >= 50 and w <= 69:\n",
    "        return 2\n",
    "    if w >= 70 and w <= 89:\n",
    "        return 3\n",
    "    if w >= 90 and w <= 109:\n",
    "        return 4\n",
    "    if w >= 110:\n",
    "        return 5"
   ]
  },
  {
   "cell_type": "code",
   "execution_count": null,
   "id": "612e55b2",
   "metadata": {},
   "outputs": [],
   "source": [
    "df['win_bins'] = df['W'].apply(assign_win_bins)"
   ]
  },
  {
   "cell_type": "code",
   "execution_count": null,
   "id": "70d25ce9",
   "metadata": {},
   "outputs": [],
   "source": [
    "plt.scatter(df['yearID'],df['W'],c=df['win_bins'])\n",
    "plt.title('wins per year')\n",
    "plt.xlabel('year')\n",
    "plt.ylabel('wins')"
   ]
  },
  {
   "cell_type": "code",
   "execution_count": null,
   "id": "7220d23b",
   "metadata": {},
   "outputs": [],
   "source": [
    "df = df[df['yearID']>1900]"
   ]
  },
  {
   "cell_type": "code",
   "execution_count": null,
   "id": "c92645d9",
   "metadata": {},
   "outputs": [],
   "source": [
    "runs_per_year = {}\n",
    "games_per_year = {}\n",
    "\n",
    "for i, row in df.iterrows():\n",
    "    year = row['yearID']\n",
    "    runs = row['R']\n",
    "    games = row['G']\n",
    "    if year in runs_per_year:\n",
    "        runs_per_year[year] = runs_per_year[year] + runs\n",
    "        games_per_year[year] = games_per_year[year] + games\n",
    "    else:\n",
    "        runs_per_year[year] = runs\n",
    "        games_per_year[year] = games"
   ]
  },
  {
   "cell_type": "code",
   "execution_count": null,
   "id": "3fceb50b",
   "metadata": {},
   "outputs": [],
   "source": [
    "print(runs_per_year)"
   ]
  },
  {
   "cell_type": "code",
   "execution_count": null,
   "id": "3520ed60",
   "metadata": {},
   "outputs": [],
   "source": [
    "print(games_per_year)"
   ]
  },
  {
   "cell_type": "code",
   "execution_count": null,
   "id": "10d26954",
   "metadata": {},
   "outputs": [],
   "source": [
    "mlb_runs_per_game = {}\n",
    "\n",
    "for k,v in games_per_year.items():\n",
    "    year = k\n",
    "    games = v\n",
    "    runs = runs_per_year[year]\n",
    "    mlb_runs_per_game[year] = runs/games"
   ]
  },
  {
   "cell_type": "code",
   "execution_count": null,
   "id": "2fc6c3e8",
   "metadata": {},
   "outputs": [],
   "source": [
    "print(mlb_runs_per_game)"
   ]
  },
  {
   "cell_type": "code",
   "execution_count": null,
   "id": "2e92a850",
   "metadata": {},
   "outputs": [],
   "source": [
    "lists = sorted(mlb_runs_per_game.items())\n",
    "x,y = zip(*lists)"
   ]
  },
  {
   "cell_type": "code",
   "execution_count": null,
   "id": "fda720be",
   "metadata": {},
   "outputs": [],
   "source": [
    "plt.plot(x,y)\n",
    "plt.title('mlb yearly runs per game')\n",
    "plt.xlabel('year')\n",
    "plt.ylabel('mlb runs per game')"
   ]
  },
  {
   "cell_type": "code",
   "execution_count": null,
   "id": "53c20b96",
   "metadata": {},
   "outputs": [],
   "source": [
    "def assign_label(year):\n",
    "    if year < 1920:\n",
    "        return 1\n",
    "    elif year >= 1920 and year <= 1941:\n",
    "        return 2\n",
    "    elif year >= 1942 and year <= 1945:\n",
    "        return 3\n",
    "    elif year >= 1946 and year <= 1962:\n",
    "        return 4\n",
    "    elif year >= 1963 and year <= 1976:\n",
    "        return 5\n",
    "    elif year >= 1977 and year <= 1992:\n",
    "        return 6\n",
    "    elif year >= 1993 and year <= 2009:\n",
    "        return 7\n",
    "    elif year >= 2010:\n",
    "        return 8"
   ]
  },
  {
   "cell_type": "code",
   "execution_count": null,
   "id": "54128841",
   "metadata": {},
   "outputs": [],
   "source": [
    "df['year_label'] = df['yearID'].apply(assign_label)"
   ]
  },
  {
   "cell_type": "code",
   "execution_count": null,
   "id": "f8e7e45c",
   "metadata": {},
   "outputs": [],
   "source": [
    "dummy_df = pd.get_dummies(df['year_label'],prefix='era')"
   ]
  },
  {
   "cell_type": "code",
   "execution_count": null,
   "id": "b2582551",
   "metadata": {},
   "outputs": [],
   "source": [
    "dummy_df.head()"
   ]
  },
  {
   "cell_type": "code",
   "execution_count": null,
   "id": "a77ed31a",
   "metadata": {},
   "outputs": [],
   "source": [
    "df = pd.concat([df,dummy_df],axis=1)"
   ]
  },
  {
   "cell_type": "code",
   "execution_count": null,
   "id": "48800c40",
   "metadata": {},
   "outputs": [],
   "source": [
    "df.head(2)"
   ]
  },
  {
   "cell_type": "code",
   "execution_count": null,
   "id": "a56a8c82",
   "metadata": {},
   "outputs": [],
   "source": [
    "def assign_mlb_rpg(year):\n",
    "    return mlb_runs_per_game[year]\n",
    "df['mlb_rpg'] = df['yearID'].apply(assign_mlb_rpg)"
   ]
  },
  {
   "cell_type": "code",
   "execution_count": null,
   "id": "389ac696",
   "metadata": {},
   "outputs": [],
   "source": [
    "def assign_decade(year):\n",
    "    if year < 1920:\n",
    "        return 1910\n",
    "    elif year >= 1920 and year <= 1929:\n",
    "        return 1920\n",
    "    elif year >= 1930 and year <= 1939:\n",
    "        return 1930\n",
    "    elif year >= 1940 and year <= 1949:\n",
    "        return 1940\n",
    "    elif year >= 1950 and year <= 1959:\n",
    "        return 1950\n",
    "    elif year >= 1960 and year <= 1969:\n",
    "        return 1960\n",
    "    elif year >= 1970 and year <= 1979:\n",
    "        return 1970\n",
    "    elif year >= 1980 and year <= 1989:\n",
    "        return 1980\n",
    "    elif year >= 1990 and year <= 1999:\n",
    "        return 1990\n",
    "    elif year >= 2000 and year <= 2009:\n",
    "        return 2000\n",
    "    elif year >= 2010:\n",
    "        return 2010"
   ]
  },
  {
   "cell_type": "code",
   "execution_count": null,
   "id": "165c19ee",
   "metadata": {},
   "outputs": [],
   "source": [
    "df['decade_label'] = df['yearID'].apply(assign_decade)"
   ]
  },
  {
   "cell_type": "code",
   "execution_count": null,
   "id": "b9babd34",
   "metadata": {},
   "outputs": [],
   "source": [
    "decade_df = pd.get_dummies(df['decade_label'],prefix='decade')\n",
    "decade_df.head()"
   ]
  },
  {
   "cell_type": "code",
   "execution_count": null,
   "id": "5753a27a",
   "metadata": {},
   "outputs": [],
   "source": [
    "df = pd.concat([df,decade_df],axis=1)"
   ]
  },
  {
   "cell_type": "code",
   "execution_count": null,
   "id": "3924be4f",
   "metadata": {},
   "outputs": [],
   "source": [
    "df = df.drop(['yearID','year_label','decade_label'],axis=1)"
   ]
  },
  {
   "cell_type": "code",
   "execution_count": null,
   "id": "87f2a091",
   "metadata": {},
   "outputs": [],
   "source": [
    "df['R_per_game'] = df['R']/df['G']\n",
    "df['RA_per_game'] = df['RA']/df['G']"
   ]
  },
  {
   "cell_type": "code",
   "execution_count": null,
   "id": "4eb3a1e9",
   "metadata": {},
   "outputs": [],
   "source": [
    "fig = plt.figure(figsize=(12,6))\n",
    "\n",
    "ax1 = fig.add_subplot(1,2,1)\n",
    "ax2 = fig.add_subplot(1,2,2)\n",
    "\n",
    "ax1.scatter(df['R_per_game'],df['W'],c='blue')\n",
    "ax1.set_title('runs per game vs wins')\n",
    "ax1.set_ylabel('wins')\n",
    "ax1.set_xlabel('runs per game')\n",
    "\n",
    "ax2.scatter(df['RA_per_game'],df['W'],c='red')\n",
    "ax2.set_title('runs allowed per game vs wins')\n",
    "ax2.set_xlabel('runs allowed per game')"
   ]
  },
  {
   "cell_type": "code",
   "execution_count": null,
   "id": "bc584747",
   "metadata": {},
   "outputs": [],
   "source": [
    "df.corr()['W']"
   ]
  },
  {
   "cell_type": "code",
   "execution_count": null,
   "id": "45f553e6",
   "metadata": {},
   "outputs": [],
   "source": [
    "attributes = ['G','R','AB','H','2B','3B','HR','BB','SO','SB','RA','ER','ERA','CG',\n",
    "'SHO','SV','IPouts','HA','HRA','BBA','SOA','E','DP','FP','era_1','era_2','era_3','era_4','era_5','era_6','era_7','era_8','decade_1910','decade_1920','de"
   ]
  },
  {
   "cell_type": "code",
   "execution_count": null,
   "id": "52d4a115",
   "metadata": {},
   "outputs": [],
   "source": [
    "data_attributes = df[attributes]"
   ]
  },
  {
   "cell_type": "code",
   "execution_count": null,
   "id": "aceabcf8",
   "metadata": {},
   "outputs": [],
   "source": [
    "df.head()"
   ]
  },
  {
   "cell_type": "code",
   "execution_count": null,
   "id": "8c0cd438",
   "metadata": {},
   "outputs": [],
   "source": [
    "from sklearn.cluster import KMeans\n",
    "from sklearn import metrics"
   ]
  },
  {
   "cell_type": "code",
   "execution_count": null,
   "id": "5dec5c75",
   "metadata": {},
   "outputs": [],
   "source": [
    "score_dict = {}\n",
    "for i in range(2,11):\n",
    "    km = KMeans(n_clusters = i, random_state=1)\n",
    "    l = km.fit_predict(data_attributes)\n",
    "    score = metrics.silhouette_score(data_attributes,l)\n",
    "    score_dict[i] = score"
   ]
  },
  {
   "cell_type": "code",
   "execution_count": null,
   "id": "5d9a5b18",
   "metadata": {},
   "outputs": [],
   "source": [
    "score_dict"
   ]
  },
  {
   "cell_type": "code",
   "execution_count": null,
   "id": "74b30a1d",
   "metadata": {},
   "outputs": [],
   "source": [
    "kmeans_model = KMeans(n_clusters = 6, random_state=1)"
   ]
  },
  {
   "cell_type": "code",
   "execution_count": null,
   "id": "e407ae04",
   "metadata": {},
   "outputs": [],
   "source": [
    "#determine euclidian distances for each data points\n",
    "distances = kmeans_model.fit_transform(data_attributes)"
   ]
  },
  {
   "cell_type": "code",
   "execution_count": null,
   "id": "99c29e94",
   "metadata": {},
   "outputs": [],
   "source": [
    "distances"
   ]
  },
  {
   "cell_type": "code",
   "execution_count": null,
   "id": "b377a886",
   "metadata": {},
   "outputs": [],
   "source": [
    "#create scatter plot colored by kmeans clusters\n",
    "labels = kmeans_model.labels_\n",
    "plt.scatter(distances[:,0],distances[:,1],c=labels)\n",
    "plt.title('kmeans clusters')"
   ]
  },
  {
   "cell_type": "code",
   "execution_count": null,
   "id": "4070d2e2",
   "metadata": {},
   "outputs": [],
   "source": [
    "df['labels'] = labels\n",
    "attributes.append('labels')\n",
    "df.head()"
   ]
  },
  {
   "cell_type": "code",
   "execution_count": null,
   "id": "ab53e086",
   "metadata": {},
   "outputs": [],
   "source": [
    "numeric_cols = ['G','R','AB','H','2B','3B','HR','BB','SO','SB','RA','ER','ERA','CG','SHO','SV','IPouts','HA','HRA','BBA','SOA','E','DP','FP','era_1','"
   ]
  },
  {
   "cell_type": "code",
   "execution_count": null,
   "id": "b350a310",
   "metadata": {},
   "outputs": [],
   "source": [
    "data = df[numeric_cols]"
   ]
  },
  {
   "cell_type": "code",
   "execution_count": null,
   "id": "1f6e162d",
   "metadata": {},
   "outputs": [],
   "source": [
    "data.head()"
   ]
  },
  {
   "cell_type": "code",
   "execution_count": null,
   "id": "1c07a905",
   "metadata": {},
   "outputs": [],
   "source": [
    "train = data.sample(frac = 0.75, random_state=1)\n",
    "test = data.loc[~data.index.isin(train.index)]"
   ]
  },
  {
   "cell_type": "code",
   "execution_count": null,
   "id": "89d2745c",
   "metadata": {},
   "outputs": [],
   "source": [
    "x_train = train[attributes]\n",
    "y_train = train['W']\n",
    "x_test = test[attributes]\n",
    "y_test = test['W']"
   ]
  },
  {
   "cell_type": "code",
   "execution_count": null,
   "id": "7abab450",
   "metadata": {},
   "outputs": [],
   "source": [
    "from sklearn.linear_model import LinearRegression\n",
    "from sklearn.metrics import mean_absolute_error"
   ]
  },
  {
   "cell_type": "code",
   "execution_count": null,
   "id": "f2a54c75",
   "metadata": {},
   "outputs": [],
   "source": [
    "lr = LinearRegression(normalize=True)"
   ]
  },
  {
   "cell_type": "code",
   "execution_count": null,
   "id": "afef68b3",
   "metadata": {},
   "outputs": [],
   "source": [
    "lr.fit(x_train,y_train)"
   ]
  },
  {
   "cell_type": "code",
   "execution_count": null,
   "id": "3a61c0cd",
   "metadata": {},
   "outputs": [],
   "source": [
    "predictions = lr.predict(x_test)"
   ]
  },
  {
   "cell_type": "code",
   "execution_count": null,
   "id": "717ab4a0",
   "metadata": {},
   "outputs": [],
   "source": [
    "mae = mean_absolute_error(y_test,predictions)"
   ]
  },
  {
   "cell_type": "code",
   "execution_count": null,
   "id": "482f232f",
   "metadata": {},
   "outputs": [],
   "source": [
    "mae"
   ]
  },
  {
   "cell_type": "code",
   "execution_count": null,
   "id": "79d29496",
   "metadata": {},
   "outputs": [],
   "source": [
    "from sklearn.linear_model import RidgeCV"
   ]
  },
  {
   "cell_type": "code",
   "execution_count": null,
   "id": "2ba28e8c",
   "metadata": {},
   "outputs": [],
   "source": [
    "rrm = RidgeCV(alphas=(0.01,0.1,1,10),normalize=True)"
   ]
  },
  {
   "cell_type": "code",
   "execution_count": null,
   "id": "12c1f988",
   "metadata": {},
   "outputs": [],
   "source": [
    "rrm.fit(x_train,y_train)"
   ]
  },
  {
   "cell_type": "code",
   "execution_count": null,
   "id": "3e01317e",
   "metadata": {},
   "outputs": [],
   "source": [
    "predictions = rrm.predict(x_test)"
   ]
  },
  {
   "cell_type": "code",
   "execution_count": null,
   "id": "68efdfd7",
   "metadata": {},
   "outputs": [],
   "source": [
    "mae_rrm = mean_absolute_error(y_test,predictions)\n",
    "mae_rrm"
   ]
  }
 ],
 "metadata": {
  "kernelspec": {
   "display_name": "Python 3 (ipykernel)",
   "language": "python",
   "name": "python3"
  },
  "language_info": {
   "codemirror_mode": {
    "name": "ipython",
    "version": 3
   },
   "file_extension": ".py",
   "mimetype": "text/x-python",
   "name": "python",
   "nbconvert_exporter": "python",
   "pygments_lexer": "ipython3",
   "version": "3.9.7"
  }
 },
 "nbformat": 4,
 "nbformat_minor": 5
}
