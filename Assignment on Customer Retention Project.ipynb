{
 "cells": [
  {
   "cell_type": "code",
   "execution_count": null,
   "id": "e597cd23",
   "metadata": {},
   "outputs": [],
   "source": [
    "import pandas as pd # for data wrangling purpose\n",
    "import numpy as np # Basic computation library\n",
    "import seaborn as sns # For Visualization \n",
    "import matplotlib.pyplot as plt # ploting package\n",
    "%matplotlib inline\n",
    "import warnings # Filtering warnings\n",
    "warnings.filterwarnings('ignore')"
   ]
  },
  {
   "cell_type": "code",
   "execution_count": null,
   "id": "b550ef4d",
   "metadata": {},
   "outputs": [],
   "source": [
    "df =pd.read_excel('customer_retention_dataset.xlsx')"
   ]
  },
  {
   "cell_type": "code",
   "execution_count": null,
   "id": "45a0df5c",
   "metadata": {},
   "outputs": [],
   "source": [
    "print('No. of Rows :',df.shape[0])\n",
    "print('No. of Columns :',df.shape[1])\n",
    "pd.set_option('display.max_columns',None) # # This will enable us to see truncated columns\n",
    "df.head()"
   ]
  },
  {
   "cell_type": "code",
   "execution_count": null,
   "id": "e3782c39",
   "metadata": {},
   "outputs": [],
   "source": [
    "df.isnull().sum().any()"
   ]
  },
  {
   "cell_type": "code",
   "execution_count": null,
   "id": "60c36509",
   "metadata": {},
   "outputs": [],
   "source": [
    "df.isin(['NA','N/A','-',' ','?',' ?']).sum().any()"
   ]
  },
  {
   "cell_type": "code",
   "execution_count": null,
   "id": "bc21697d",
   "metadata": {},
   "outputs": [],
   "source": [
    "df.describe(include=object)"
   ]
  },
  {
   "cell_type": "code",
   "execution_count": null,
   "id": "55fef34e",
   "metadata": {},
   "outputs": [],
   "source": [
    "# Exploring Gender of Respondent\n",
    "plt.rcParams[\"figure.autolayout\"] = True\n",
    "sns.set_palette('husl')\n",
    "f,ax=plt.subplots(1,2,figsize=(12,6))\n",
    "\n",
    "df['1Gender of respondent'].value_counts().plot.pie(explode=[0.025,0.025],autopct='%3.1f%%',\n",
    "                                          textprops ={ 'fontweight': 'bold','fontsize':18}, ax=ax[0],shadow=True)\n",
    "ax[0].set_title('Gender of respondent Distribution', fontsize=20,fontweight ='bold')\n",
    "ax[0].set_ylabel('')\n",
    "\n",
    "sns.countplot('1Gender of respondent',data=df,ax=ax[1])\n",
    "ax[1].set_title('Gender of respondent Distribution',fontsize=18,fontweight ='bold')\n",
    "ax[1].set_xlabel(\"Gender\",fontsize=18,fontweight ='bold')\n",
    "ax[1].set_ylabel(\"No. of Respondent\",fontsize=18,fontweight ='bold')\n",
    "plt.xticks(fontsize=18,fontweight ='bold')\n",
    "plt.show()\n",
    "df['1Gender of respondent'].value_counts()"
   ]
  },
  {
   "cell_type": "code",
   "execution_count": null,
   "id": "ecc5b5a5",
   "metadata": {},
   "outputs": [],
   "source": [
    "# Exploring Gender of Respondent\n",
    "plt.rcParams[\"figure.autolayout\"] = True\n",
    "sns.set_palette('husl')\n",
    "f,ax=plt.subplots(1,2,figsize=(18,9))\n",
    "\n",
    "df['2 How old are you? '].value_counts().plot.pie(explode=[0.025,0.025,0.025,0.025,0.025],autopct='%3.1f%%',\n",
    "                                          textprops ={ 'fontweight': 'bold','fontsize':14}, ax=ax[0],shadow=True)\n",
    "ax[0].set_title('Age of Respondent', fontsize=20,fontweight ='bold')\n",
    "ax[0].set_ylabel('')\n",
    "\n",
    "sns.countplot('2 How old are you? ',hue =df['1Gender of respondent'] , data=df,ax=ax[1])\n",
    "ax[1].set_title('How old are Respondent',fontsize=18,fontweight ='bold')\n",
    "ax[1].set_xlabel(\"Age of Respondent\",fontsize=18,fontweight ='bold')\n",
    "ax[1].set_ylabel(\"No. of Respondent\",fontsize=18,fontweight ='bold')\n",
    "plt.xticks(fontsize=14,fontweight ='bold',rotation = 30)\n",
    "plt.show()\n",
    "df['2 How old are you? '].value_counts()\n"
   ]
  },
  {
   "cell_type": "code",
   "execution_count": null,
   "id": "25fbbe1b",
   "metadata": {},
   "outputs": [],
   "source": [
    "# Exploring How Long You are Shopping Online ?\n",
    "plt.rcParams[\"figure.autolayout\"] = True\n",
    "sns.set_palette('Set2_r')\n",
    "f,ax=plt.subplots(1,2,figsize=(20,9))\n",
    "\n",
    "df['3 Which city do you shop online from?'].value_counts().plot.pie(autopct='%3.1f%%',\n",
    "                                          textprops ={ 'fontweight': 'bold','fontsize':14}, ax=ax[0],shadow=True)\n",
    "ax[0].set_title('Shopping Online from City', fontsize=20,fontweight ='bold')\n",
    "ax[0].set_ylabel('')\n",
    "\n",
    "sns.countplot('3 Which city do you shop online from?',hue =df['1Gender of respondent'] , data=df,ax=ax[1])\n",
    "ax[1].set_title('Shopping Online from City Genderwise Tendency ',fontsize=18,fontweight ='bold')\n",
    "ax[1].set_xlabel(\"Shopping Online from City\",fontsize=18,fontweight ='bold')\n",
    "ax[1].set_ylabel(\"No. of Respondent\",fontsize=18,fontweight ='bold')\n",
    "plt.xticks(fontsize=14,fontweight ='bold',rotation = 30)\n",
    "plt.show()\n",
    "df['3 Which city do you shop online from?'].value_counts()"
   ]
  },
  {
   "cell_type": "code",
   "execution_count": null,
   "id": "5b13b18b",
   "metadata": {},
   "outputs": [],
   "source": [
    "# Exploring How Long You are Shopping Online ?\n",
    "plt.rcParams[\"figure.autolayout\"] = True\n",
    "sns.set_palette('Set1_r')\n",
    "f,ax=plt.subplots(1,2,figsize=(18,9))\n",
    "\n",
    "df['5 Since How Long You are Shopping Online ?'].value_counts().plot.pie(explode=[0.025,0.025,0.025,0.025,0.025],autopct='%3.1f%%',\n",
    "                                          textprops ={ 'fontweight': 'bold','fontsize':14}, ax=ax[0],shadow=True)\n",
    "ax[0].set_title('Shopping Online Since (Years)', fontsize=20,fontweight ='bold')\n",
    "ax[0].set_ylabel('')\n",
    "\n",
    "sns.countplot('5 Since How Long You are Shopping Online ?',hue =df['1Gender of respondent'] , data=df,ax=ax[1])\n",
    "ax[1].set_title('Shopping Online Since (Years) Genderwise Tendency ',fontsize=18,fontweight ='bold')\n",
    "ax[1].set_xlabel(\"Shopping Online Since (Years)\",fontsize=18,fontweight ='bold')\n",
    "ax[1].set_ylabel(\"No. of Respondent\",fontsize=18,fontweight ='bold')\n",
    "plt.xticks(fontsize=14,fontweight ='bold',rotation = 30)\n",
    "plt.show()\n",
    "df['5 Since How Long You are Shopping Online ?'].value_counts()"
   ]
  },
  {
   "cell_type": "code",
   "execution_count": null,
   "id": "20c4d781",
   "metadata": {},
   "outputs": [],
   "source": [
    "pd.crosstab([df['5 Since How Long You are Shopping Online ?']  ],\n",
    "            df[\"3 Which city do you shop online from?\"],margins=True).style.background_gradient(cmap='summer_r')"
   ]
  },
  {
   "cell_type": "code",
   "execution_count": null,
   "id": "e7b2d4d7",
   "metadata": {},
   "outputs": [],
   "source": [
    "df['6 How many times you have made an online purchase in the past 1 year?'] = df['6 How many times you have made an online purchase in the past 1 year?"
   ]
  },
  {
   "cell_type": "code",
   "execution_count": null,
   "id": "bfb3fef8",
   "metadata": {},
   "outputs": [],
   "source": [
    "# Exploring How many times you have made an online purchase in the past 1 year?\n",
    "plt.rcParams[\"figure.autolayout\"] = True\n",
    "sns.set_palette('gist_rainbow_r')\n",
    "f,ax=plt.subplots(1,2,figsize=(20,9))\n",
    "\n",
    "df['6 How many times you have made an online purchase in the past 1 year?'].value_counts().plot.pie(explode=[0.025,0.025,0.025,0.025,0.025],autopct='%3.1f%%',\n",
    "                textprops ={ 'fontweight': 'bold','fontsize':14}, ax=ax[0],shadow=True)\n",
    "ax[0].set_title('Online purchase in the past 1 year', fontsize=20,fontweight ='bold')\n",
    "ax[0].set_ylabel('')\n",
    "\n",
    "sns.countplot('6 How many times you have made an online purchase in the past 1 year?',hue =df['1Gender of respondent'] , data=df,ax=ax[1])\n",
    "ax[1].set_title('Online purchase in the past 1 year',fontsize=18,fontweight ='bold')\n",
    "ax[1].set_xlabel(\"online purchase in the past 1 year\",fontsize=18,fontweight ='bold')\n",
    "ax[1].set_ylabel(\"No. of Respondent\",fontsize=18,fontweight ='bold')\n",
    "plt.xticks(fontsize=14,fontweight ='bold',rotation = 30)\n",
    "plt.show()\n",
    "df['6 How many times you have made an online purchase in the past 1 year?'].value_counts()"
   ]
  },
  {
   "cell_type": "code",
   "execution_count": null,
   "id": "95737392",
   "metadata": {},
   "outputs": [],
   "source": [
    "pd.crosstab([df['6 How many times you have made an online purchase in the past 1 year?']  ],\n",
    "            df[\"3 Which city do you shop online from?\"],margins=True).style.background_gradient(cmap='spring_r')"
   ]
  },
  {
   "cell_type": "code",
   "execution_count": null,
   "id": "c917af9c",
   "metadata": {},
   "outputs": [],
   "source": [
    "# Exploring How do you access the internet while shopping on-line?\n",
    "plt.rcParams[\"figure.autolayout\"] = True\n",
    "sns.set_palette('hsv')\n",
    "f,ax=plt.subplots(1,2,figsize=(20,9))\n",
    "\n",
    "df['7 How do you access the internet while shopping on-line?'].value_counts().plot.pie(explode=[0.025,0.025,0.025],autopct='%3.1f%%',\n",
    "                textprops ={ 'fontweight': 'bold','fontsize':14}, ax=ax[0],shadow=True)\n",
    "ax[0].set_title('Type of Internet Connection', fontsize=20,fontweight ='bold')\n",
    "ax[0].set_ylabel('')\n",
    "\n",
    "sns.countplot('7 How do you access the internet while shopping on-line?' , hue = df['6 How many times you have made an online purchase in the past 1 year?'] ,data=df,ax=ax[1])\n",
    "ax[1].set_title('Type of Internet Connection',fontsize=18,fontweight ='bold')\n",
    "ax[1].set_xlabel(\"Type of Internet Connection\",fontsize=18,fontweight ='bold')\n",
    "ax[1].set_ylabel(\"No. of Respondent\",fontsize=18,fontweight ='bold')\n",
    "plt.xticks(fontsize=14,fontweight ='bold')\n",
    "plt.show()\n",
    "df['7 How do you access the internet while shopping on-line?'].value_counts()"
   ]
  },
  {
   "cell_type": "code",
   "execution_count": null,
   "id": "a9b47e84",
   "metadata": {},
   "outputs": [],
   "source": [
    "df.rename(columns= {'9 What is the screen size of your mobile device?\\t\\t\\t\\t\\t\\t                                        ':'9 What is the screen size of your mobile device?',\n",
    "                   '10 What is the operating system (OS) of your device?\\t\\t\\t\\t                                          ':'10 What is the operating system (OS) of your device?',\n",
    "                   '11 What browser do you run on your device to access the website?\\t\\t\\t                                                          ':'11 What browser do you run on your device to access the website?',\n",
    "                   '12 Which channel did you follow to arrive at your favorite online store for the first time?                                                                   ':'12 Which channel did you follow to arrive at your favorite online store for the first time?',\n",
    "                   '13 After first visit, how do you reach the online retail store?\\t\\t\\t\\t                                                   ':'13 After first visit, how do you reach the online retail store?'},inplace=True)\n",
    "Feature_1 = ['7 How do you access the internet while shopping on-line?','8 Which device do you use to access the online shopping?',\n",
    "            '9 What is the screen size of your mobile device?','10 What is the operating system (OS) of your device?',\n",
    "            '11 What browser do you run on your device to access the website?',\n",
    "             '12 Which channel did you follow to arrive at your favorite online store for the first time?',\n",
    "            '13 After first visit, how do you reach the online retail store?']"
   ]
  },
  {
   "cell_type": "code",
   "execution_count": null,
   "id": "6615f89c",
   "metadata": {},
   "outputs": [],
   "source": [
    "sns.set_palette('Set2_r')\n",
    "plt.figure(figsize=(15,70), facecolor='white')\n",
    "plotnumber =1\n",
    "for i in Feature_1:\n",
    "    if plotnumber <=8:\n",
    "        ax = plt.subplot(7,1,plotnumber)\n",
    "        df[i].value_counts().plot.pie(autopct='%3.1f%%',\n",
    "                textprops ={'fontweight': 'bold','fontsize':14}, shadow=True)\n",
    "        plt.title(i,fontsize=20,fontweight ='bold')\n",
    "        plt.ylabel('')\n",
    "    plotnumber+=1    \n",
    "plt.show()"
   ]
  },
  {
   "cell_type": "code",
   "execution_count": null,
   "id": "b7b7f524",
   "metadata": {},
   "outputs": [],
   "source": [
    "pd.crosstab([df['8 Which device do you use to access the online shopping?']  ],\n",
    "            df[\"10 What is the operating system (OS) of your device?\"],margins=True).style.background_gradient(cmap='spring_r')"
   ]
  },
  {
   "cell_type": "code",
   "execution_count": null,
   "id": "1a99a425",
   "metadata": {},
   "outputs": [],
   "source": [
    "pd.crosstab([df['7 How do you access the internet while shopping on-line?']  ],\n",
    "            df[\"8 Which device do you use to access the online shopping?\"],margins=True).style.background_gradient(cmap='winter_r')"
   ]
  },
  {
   "cell_type": "code",
   "execution_count": null,
   "id": "15024a70",
   "metadata": {},
   "outputs": [],
   "source": [
    "pd.crosstab([df['12 Which channel did you follow to arrive at your favorite online store for the first time?']  ],\n",
    "            df[\"13 After first visit, how do you reach the online retail store?\"],margins=True).style.background_gradient(cmap='summer_r')"
   ]
  },
  {
   "cell_type": "code",
   "execution_count": null,
   "id": "d5b75332",
   "metadata": {},
   "outputs": [],
   "source": [
    "df.rename(columns ={'14 How much time do you explore the e- retail store before making a purchase decision?                                                                   ':'14 How much time do you explore the e- retail store before making a purchase decision?',\n",
    "                   '15 What is your preferred payment Option?\\t\\t\\t\\t\\t                                                                                                                               ':'15 What is your preferred payment Option?',\n",
    "                   '16 How frequently do you abandon (selecting an items and leaving without making payment) your shopping cart?\\t\\t\\t\\t\\t\\t\\t                                                   ':'16 How frequently do you abandon (selecting an items and leaving without making payment) your shopping cart?',\n",
    "                   '17 Why did you abandon the “Bag”, “Shopping Cart”?\\t\\t\\t\\t\\t                                                                                                                                                       ':'17 Why did you abandon the “Bag”, “Shopping Cart”?'},inplace= True)\n",
    "Feature_2 = ['14 How much time do you explore the e- retail store before making a purchase decision?',\n",
    "             '15 What is your preferred payment Option?',\n",
    "             '16 How frequently do you abandon (selecting an items and leaving without making payment) your shopping cart?',\n",
    "             '17 Why did you abandon the “Bag”, “Shopping Cart”?']\n",
    "sns.set_palette('Set2_r')\n",
    "plt.figure(figsize=(15,44), facecolor='white')\n",
    "plotnumber =1\n",
    "for i in Feature_2:\n",
    "    if plotnumber <=4:\n",
    "        ax = plt.subplot(4,1,plotnumber)\n",
    "        df[i].value_counts().plot.pie(autopct='%3.1f%%',\n",
    "                textprops ={'fontweight': 'bold','fontsize':14}, shadow=True)\n",
    "        plt.title(i,fontsize=20,fontweight ='bold')\n",
    "        plt.ylabel('')\n",
    "    plotnumber+=1    \n",
    "plt.show()"
   ]
  },
  {
   "cell_type": "code",
   "execution_count": null,
   "id": "28b8d219",
   "metadata": {},
   "outputs": [],
   "source": [
    "pd.crosstab([df['14 How much time do you explore the e- retail store before making a purchase decision?']  ],\n",
    "            df[\"6 How many times you have made an online purchase in the past 1 year?\"],margins=True).style.background_gradient(cmap='summer_r')"
   ]
  },
  {
   "cell_type": "code",
   "execution_count": null,
   "id": "b9082be3",
   "metadata": {},
   "outputs": [],
   "source": [
    "# Percentage Income distribution in terms of Education\n",
    "sns.set_palette('rainbow')\n",
    "table = pd.crosstab(df['14 How much time do you explore the e- retail store before making a purchase decision?'],\n",
    "            df[\"6 How many times you have made an online purchase in the past 1 year?\"] )\n",
    "(table.div(table.sum(axis=1),axis=0)*100).plot(kind='bar',stacked=True,figsize=(14,8))\n",
    "plt.title('Time Spend for Purchase decision VS Purchase count in Past 1 Year', fontsize=20, fontweight='bold')\n",
    "plt.xlabel('Time Spend Before Making Purchase Decision', fontsize=18,fontweight='bold')\n",
    "plt.ylabel('Percentage', fontsize=18,fontweight='bold')\n",
    "plt.xticks(fontweight ='bold')\n",
    "plt.show()"
   ]
  },
  {
   "cell_type": "code",
   "execution_count": null,
   "id": "17d00b4a",
   "metadata": {},
   "outputs": [],
   "source": [
    "pd.crosstab([df['14 How much time do you explore the e- retail store before making a purchase decision?']  ],\n",
    "            df[\"16 How frequently do you abandon (selecting an items and leaving without making payment) your shopping cart?\"],margins=True).style.back"
   ]
  },
  {
   "cell_type": "code",
   "execution_count": null,
   "id": "8a050f6c",
   "metadata": {},
   "outputs": [],
   "source": [
    "Feature_3 = ['18 The content on the website must be easy to read and understand','19 Information on similar product to the one highlighted  is important for product comparison',\n",
    "            '20 Complete information on listed seller and product being offered is important for purchase decision.','21 All relevant information on listed products must be stated clearly',\n",
    "            '22 Ease of navigation in website','23 Loading and processing speed','24 User friendly Interface of the website',\n",
    "            '25 Convenient Payment methods','26 Trust that the online retail store will fulfill its part of the transaction at the stipulated time']\n",
    "sns.set_palette('gist_stern_r')\n",
    "plt.figure(figsize=(15,80), facecolor='white')\n",
    "plotnumber =1\n",
    "for i in Feature_3:\n",
    "    if plotnumber <=8:\n",
    "        ax = plt.subplot(8,1,plotnumber)\n",
    "        df[i].value_counts().plot.pie(autopct='%3.1f%%',\n",
    "                textprops ={'fontweight': 'bold','fontsize':14}, shadow=True)\n",
    "        plt.title(i,fontsize=20,fontweight ='bold')\n",
    "        plt.ylabel('')\n",
    "    plotnumber+=1    \n",
    "plt.show()"
   ]
  },
  {
   "cell_type": "code",
   "execution_count": null,
   "id": "aad306b0",
   "metadata": {},
   "outputs": [],
   "source": [
    "#Factor plot for Seller_ProductInfo\n",
    "plt.figure(figsize = (7,5))\n",
    "sns.factorplot('20 Complete information on listed seller and product being offered is important for purchase decision.',kind='count',data=df,\n",
    "               hue='21 All relevant information on listed products must be stated clearly',palette=\"magma\")\n",
    "plt.xticks(rotation=90)\n",
    "plt.show()"
   ]
  },
  {
   "cell_type": "code",
   "execution_count": null,
   "id": "7cb5ce89",
   "metadata": {},
   "outputs": [],
   "source": [
    "Feature_4 = ['27 Empathy (readiness to assist with queries) towards the customers','28 Being able to guarantee the privacy of the customer',\n",
    "            '29 Responsiveness, availability of several communication channels (email, online rep, twitter, phone etc.)','30 Online shopping gives monetary benefit and discounts',\n",
    "            '31 Enjoyment is derived from shopping online','32 Shopping online is convenient and flexible',\n",
    "            '33 Return and replacement policy of the e-tailer is important for purchase decision','34 Gaining access to loyalty programs is a benefit of shopping online',\n",
    "            '35 Displaying quality Information on the website improves satisfaction of customers','36 User derive satisfaction while shopping on a good quality website or application',\n",
    "            '37 Net Benefit derived from shopping online can lead to users satisfaction','38 User satisfaction cannot exist without trust']\n",
    "sns.set_palette('gnuplot2_r')\n",
    "plt.figure(figsize=(15,120), facecolor='white')\n",
    "plotnumber =1\n",
    "for i in Feature_4:\n",
    "    if plotnumber <=12:\n",
    "        ax = plt.subplot(12,1,plotnumber)\n",
    "        df[i].value_counts().plot.pie(autopct='%3.1f%%',\n",
    "                textprops ={'fontweight': 'bold','fontsize':14}, shadow=True)\n",
    "        plt.title(i,fontsize=20,fontweight ='bold')\n",
    "        plt.ylabel('')\n",
    "    plotnumber+=1    \n",
    "plt.show()"
   ]
  },
  {
   "cell_type": "code",
   "execution_count": null,
   "id": "03397810",
   "metadata": {},
   "outputs": [],
   "source": [
    "Feature_5 = ['39 Offering a wide variety of listed product in several category','40 Provision of complete and relevant product information',\n",
    "            '41 Monetary savings','42 The Convenience of patronizing the online retailer','43 Shopping on the website gives you the sense of adventure',\n",
    "            '44 Shopping on your preferred e-tailer enhances your social status','45 You feel gratification shopping on your favorite e-tailer',\n",
    "            '46 Shopping on the website helps you fulfill certain roles','47 Getting value for money spent']\n",
    "sns.set_palette('gnuplot_r')\n",
    "plt.figure(figsize=(15,80), facecolor='white')\n",
    "plotnumber =1\n",
    "for i in Feature_5:\n",
    "    if plotnumber <=9:\n",
    "        ax = plt.subplot(9,1,plotnumber)\n",
    "        df[i].value_counts().plot.pie(autopct='%3.1f%%',\n",
    "                textprops ={'fontweight': 'bold','fontsize':14}, shadow=True)\n",
    "        plt.title(i,fontsize=20,fontweight ='bold')\n",
    "        plt.ylabel('')\n",
    "    plotnumber+=1    \n",
    "plt.show()"
   ]
  },
  {
   "cell_type": "code",
   "execution_count": null,
   "id": "0f810b26",
   "metadata": {},
   "outputs": [],
   "source": [
    "df.rename(columns= {'From the following, tick any (or all) of the online retailers you have shopped from;                                                                           ':\n",
    "                   'From the following, tick any (or all) of the online retailers you have shopped from'},inplace=True)\n",
    "Feature_6 = [\n",
    "       'Easy to use website or application',\n",
    "       'Visual appealing web-page layout', 'Wild variety of product on offer',\n",
    "       'Complete, relevant description information of products',\n",
    "       'Fast loading website speed of website and application',\n",
    "       'Reliability of the website or application',\n",
    "       'Quickness to complete purchase',\n",
    "       'Availability of several payment options', 'Speedy order delivery ',]\n",
    "sns.set_palette('Set2_r')\n",
    "plt.figure(figsize=(12,120), facecolor='white')\n",
    "plotnumber =1\n",
    "for i in Feature_6:\n",
    "    if plotnumber <=12:\n",
    "        ax = plt.subplot(10,1,plotnumber)\n",
    "        sns.countplot(df[i])\n",
    "        plt.title(i,fontsize=20,fontweight ='bold')\n",
    "        plt.xticks(rotation=90)\n",
    "        plt.ylabel('')\n",
    "    plotnumber+=1\n",
    "plt.tight_layout()\n",
    "plt.show()"
   ]
  },
  {
   "cell_type": "code",
   "execution_count": null,
   "id": "08d18fae",
   "metadata": {},
   "outputs": [],
   "source": [
    "Feature_7 = ['Privacy of customers’ information',\n",
    "       'Security of customer financial information',\n",
    "       'Perceived Trustworthiness',\n",
    "       'Presence of online assistance through multi-channel',\n",
    "       'Longer time to get logged in (promotion, sales period)',\n",
    "       'Longer time in displaying graphics and photos (promotion, sales period)',\n",
    "       'Late declaration of price (promotion, sales period)',\n",
    "       'Longer page loading time (promotion, sales period)',\n",
    "       'Limited mode of payment on most products (promotion, sales period)',\n",
    "       'Longer delivery period', 'Change in website/Application design',\n",
    "       'Frequent disruption when moving from one page to another',\n",
    "       'Website is as efficient as before',\n",
    "       'Which of the Indian online retailer would you recommend to a friend?']\n",
    "sns.set_palette('hsv')\n",
    "plt.figure(figsize=(12,150), facecolor='white')\n",
    "plotnumber =1\n",
    "for i in Feature_7:\n",
    "    if plotnumber <=14:\n",
    "        ax = plt.subplot(14,1,plotnumber)\n",
    "        sns.countplot(df[i])\n",
    "        plt.title(i,fontsize=20,fontweight ='bold')\n",
    "        plt.xticks(rotation=90)\n",
    "        plt.ylabel('')\n",
    "    plotnumber+=1\n",
    "plt.tight_layout()\n",
    "plt.show()"
   ]
  }
 ],
 "metadata": {
  "kernelspec": {
   "display_name": "Python 3 (ipykernel)",
   "language": "python",
   "name": "python3"
  },
  "language_info": {
   "codemirror_mode": {
    "name": "ipython",
    "version": 3
   },
   "file_extension": ".py",
   "mimetype": "text/x-python",
   "name": "python",
   "nbconvert_exporter": "python",
   "pygments_lexer": "ipython3",
   "version": "3.9.7"
  }
 },
 "nbformat": 4,
 "nbformat_minor": 5
}
